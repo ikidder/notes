{
 "cells": [
  {
   "cell_type": "markdown",
   "metadata": {
    "collapsed": true,
    "pycharm": {
     "name": "#%% md\n"
    }
   },
   "source": [
    "Data structures can be classified as either:\n",
    "* contiguous\n",
    "* linked\n",
    "\n",
    "Contiguous data structures are composed of single slabs of memory. They include arrays, matrices, heaps, and hash tables.\n",
    "Linked data structures are composed of distinct chunks of memory bound together by pointers. They include lists, trees, and graph adjacency lists.\n",
    "\n",
    "## Arrays\n",
    "Pros:\n",
    "* constant-time access with index\n",
    "* Space efficiency\n",
    "* Memory locality\n",
    "\n",
    "Cons:\n",
    "Insert can force the array to expand if it runs out of space. But, the amortized time will still be 𝘖(n).\n",
    "Don't understand this math. Go back to p. 71 and figure it out.\n",
    "\n",
    "## Pointers and Linked Data Structures\n",
    "Pros:\n",
    "* Never runs out of space, unless the system mem is full\n",
    "* Insertion and deletion are simpler than for arrays\n",
    "* With large records, moving pointers is easier than moving the records themselves.\n",
    "\n",
    "### Both Arrays and Lists are recursive objects\n",
    "Important for divide-and-conquer algorithms\n",
    "* taking head() of a list leaves you a list\n",
    "* taking the first n elements of an array leaves two smaller arrays.\n",
    "\n",
    "## Containers: Stacks and Queues\n",
    "**Container** used here to mean an abstract data type that permits storage and retrieval of data items independent of context. (What?)\n",
    "\n",
    "### Stacks\n",
    "LIFO\n",
    "\n",
    "Simple to implement and very efficient. Good choice when retrieval order doesn't matter.\n",
    "\n",
    "`push(x)` - put item `x` on top of the stack\n",
    "`pop()` - remove and return the item at the top of the stack\n",
    "\n",
    "### Queues\n",
    "FIFO\n",
    "\n",
    "Somewhat trickier to implement than stacks. Good where order is important.\n",
    "\n",
    "`enqueue(x)` - insert item `x` at the back of the queue\n",
    "`dequeue()` - remove and return the item at the front of the queue.\n",
    "\n",
    "### Dictionaries\n"
   ]
  }
 ],
 "metadata": {
  "kernelspec": {
   "display_name": "Python 3",
   "language": "python",
   "name": "python3"
  },
  "language_info": {
   "codemirror_mode": {
    "name": "ipython",
    "version": 2
   },
   "file_extension": ".py",
   "mimetype": "text/x-python",
   "name": "python",
   "nbconvert_exporter": "python",
   "pygments_lexer": "ipython2",
   "version": "2.7.6"
  }
 },
 "nbformat": 4,
 "nbformat_minor": 0
}