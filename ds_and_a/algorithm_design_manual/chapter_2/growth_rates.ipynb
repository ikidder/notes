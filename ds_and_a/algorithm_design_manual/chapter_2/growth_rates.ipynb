{
 "cells": [
  {
   "cell_type": "markdown",
   "metadata": {
    "collapsed": true,
    "pycharm": {
     "name": "#%% md\n"
    }
   },
   "source": [
    "# Growth Rates\n",
    "\n",
    "_nanosecond_(ns): one billionth of a second. 10<sup>-9</sup> second."
   ]
  },
  {
   "cell_type": "markdown",
   "source": [],
   "metadata": {
    "collapsed": false,
    "pycharm": {
     "name": "#%% md\n"
    }
   }
  },
  {
   "cell_type": "markdown",
   "source": [
    "## function classes and runtimes\n",
    "\n",
    "**Note**: double check these. may have used wrong notation.\n",
    "\n",
    "n         (lg n)\n",
    "10        0.003𝜇𝑠\n",
    "20        0.004𝜇𝑠\n",
    "100       0.007𝜇𝑠\n",
    "1000      0.010𝜇𝑠\n",
    "100,000   0.017𝜇𝑠\n",
    "1,000,000 0.020𝜇𝑠\n",
    "1,000,000,000 0.030𝜇𝑠\n",
    "_______\n",
    "\n",
    "n         (n)\n",
    "10        0.01 𝜇𝑠\n",
    "20        0.02 𝜇𝑠\n",
    "100       0.1 𝜇𝑠\n",
    "1000      1 𝜇𝑠\n",
    "100,000   0.1 ms\n",
    "1,000,000 1 ms\n",
    "1,000,000,000 1 second\n",
    "\n",
    "-------\n",
    "\n",
    "n         (n lg n)\n",
    "10        0.033 𝜇𝑠\n",
    "20        0.086 𝜇𝑠\n",
    "100       0.644 𝜇𝑠\n",
    "1000      9.966 𝜇𝑠\n",
    "100,000   1.67 ms\n",
    "1,000,000 19.93 ms\n",
    "1,000,000,000 29.9 seconds\n",
    "\n",
    "-------\n",
    "\n",
    "n         (n<sup>2</sup>)\n",
    "10        0.1 𝜇𝑠\n",
    "20        0.4 𝜇𝑠\n",
    "100       10 𝜇𝑠\n",
    "1000      1 ms\n",
    "100,000   10 seconds\n",
    "1,000,000 16.7 minutes\n",
    "1,000,000,000 31.7 years\n",
    "\n",
    "\n",
    "--------\n",
    "\n",
    "n         (2<sup>n</sup>)\n",
    "10        1 𝜇𝑠\n",
    "20        1 ms\n",
    "100       4 x 10^13 years\n",
    "\n",
    "--------\n",
    "\n",
    "n         (n!)\n",
    "10        3.63 ms\n",
    "20        77.1 years\n",
    "\n"
   ],
   "metadata": {
    "collapsed": false,
    "pycharm": {
     "name": "#%% md\n"
    }
   }
  },
  {
   "cell_type": "markdown",
   "source": [
    "## conclusions from the above number\n",
    "\n",
    "* `n!` becomes useless for `n >= 20`.\n",
    "* `2^n` becomes impractical for `n >= 40`.\n",
    "* `n^2` (quadratic) remains usable up to `n = 10,000`, but quickly deteriorates.\n",
    "* `n` and `n lg n` remain practical for `n <= 1,000,000,000`\n",
    "* `lg n` can handle just about anything"
   ],
   "metadata": {
    "collapsed": false,
    "pycharm": {
     "name": "#%% md\n"
    }
   }
  }
 ],
 "metadata": {
  "kernelspec": {
   "display_name": "Python 3",
   "language": "python",
   "name": "python3"
  },
  "language_info": {
   "codemirror_mode": {
    "name": "ipython",
    "version": 2
   },
   "file_extension": ".py",
   "mimetype": "text/x-python",
   "name": "python",
   "nbconvert_exporter": "python",
   "pygments_lexer": "ipython2",
   "version": "2.7.6"
  }
 },
 "nbformat": 4,
 "nbformat_minor": 0
}