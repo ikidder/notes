{
 "cells": [
  {
   "cell_type": "markdown",
   "metadata": {
    "collapsed": true,
    "pycharm": {
     "name": "#%% md\n"
    }
   },
   "source": [
    "# Function Classes"
   ]
  },
  {
   "cell_type": "markdown",
   "source": [
    "* _constant_ `f(n) == 1`: cost of adding two numbers, or printing out a string. No dependence on `n`.\n",
    "* _logarithmic_ `f(n) == log n`: grows, but quite slowly. binary search.\n",
    "* _linear_ `f(n) == n`: cost of looking at each item once in an n-element array.\n",
    "* _superlinear_ `f(n) == n lg n`: grow just a little faster than linear. quicksort and mergesort.\n",
    "* _quadratic_ `f(n) == n^2`: cost of looking at the _pairs_ of elements. insertion sort. selection sort.\n",
    "* _cubic_ `f(n) == n^3`: cost of looking at the _triples_ of elements. certain dynamic programming problems.\n",
    "* _exponential_ `f(n) == x^n`, cost of looking at subsets of elements\n",
    "* _factorial_ `f(n) == n!`: cost of looking at permutations of elements"
   ],
   "metadata": {
    "collapsed": false,
    "pycharm": {
     "name": "#%% md\n"
    }
   }
  },
  {
   "cell_type": "markdown",
   "source": [
    "remember that Big 𝘖 is about _worst_ time. Rather than compute the oeprations, it's often enough to look at the worst case in each part of the algorithm, and estimate the overall worst time from that.\n",
    "\n",
    "e.g. you can drop any negative term when simplifying"
   ],
   "metadata": {
    "collapsed": false,
    "pycharm": {
     "name": "#%% md\n"
    }
   }
  },
  {
   "cell_type": "code",
   "execution_count": null,
   "outputs": [],
   "source": [],
   "metadata": {
    "collapsed": false,
    "pycharm": {
     "name": "#%%\n"
    }
   }
  }
 ],
 "metadata": {
  "kernelspec": {
   "display_name": "Python 3",
   "language": "python",
   "name": "python3"
  },
  "language_info": {
   "codemirror_mode": {
    "name": "ipython",
    "version": 2
   },
   "file_extension": ".py",
   "mimetype": "text/x-python",
   "name": "python",
   "nbconvert_exporter": "python",
   "pygments_lexer": "ipython2",
   "version": "2.7.6"
  }
 },
 "nbformat": 4,
 "nbformat_minor": 0
}