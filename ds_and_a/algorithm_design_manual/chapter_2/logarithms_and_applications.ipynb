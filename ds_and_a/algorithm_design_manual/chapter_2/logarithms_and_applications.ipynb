{
 "cells": [
  {
   "cell_type": "markdown",
   "metadata": {
    "collapsed": true,
    "pycharm": {
     "name": "#%% md\n"
    }
   },
   "source": [
    "# Logarithms and applications"
   ]
  },
  {
   "cell_type": "markdown",
   "source": [
    "## Binary search\n",
    "\n",
    "Binary search is an example of an 𝘖(log n) problem. To locate a person `p` in a telephone book containing `n` names, start by comparing `p` against the middle (`n/2`) name. After just one comparison, you can discard half the names from consideration. The number of steps the algorithm takes is the number of time we can halve n until only one name is left. By definition, this is exactly `log₂ n`.\n",
    "\n",
    "20 comparison are sufficient to find any name in a phone book with a million names."
   ],
   "metadata": {
    "collapsed": false,
    "pycharm": {
     "name": "#%% md\n"
    }
   }
  },
  {
   "cell_type": "markdown",
   "source": [
    "## Trees\n",
    "\n",
    "A binary tree of height 1 can have up to 2 leaf nodes. A tree of height 2 can have up to 4 leaf nodes. Note that the nubmer of leaves doubles every time we increase the height by 1. To account for `n` leaves, `n = 2^h`, which implies that `h = log₂ n`.\n",
    "\n",
    "If we generalize to nodes having `d` leaves, `n = d^h`, which implies `h = logd n`."
   ],
   "metadata": {
    "collapsed": false,
    "pycharm": {
     "name": "#%% md\n"
    }
   }
  },
  {
   "cell_type": "markdown",
   "source": [
    "## Bits\n",
    "There are two bit patterns of length 1: 0 and 1. There are four bit patterns of length 2: 00, 01, 10, 11. How many bits `w` do we need to represent any one of `n`? The key observation is that there must be at least `n` different bit patterns of length `w`. Since the number of different bit patterns doubles as you add each bit, we need at least `` bits where `2^w = n` In other words, we need `w = log₂ n`."
   ],
   "metadata": {
    "collapsed": false,
    "pycharm": {
     "name": "#%% md\n"
    }
   }
  },
  {
   "cell_type": "code",
   "execution_count": null,
   "outputs": [],
   "source": [],
   "metadata": {
    "collapsed": false,
    "pycharm": {
     "name": "#%%\n"
    }
   }
  }
 ],
 "metadata": {
  "kernelspec": {
   "display_name": "Python 3",
   "language": "python",
   "name": "python3"
  },
  "language_info": {
   "codemirror_mode": {
    "name": "ipython",
    "version": 2
   },
   "file_extension": ".py",
   "mimetype": "text/x-python",
   "name": "python",
   "nbconvert_exporter": "python",
   "pygments_lexer": "ipython2",
   "version": "2.7.6"
  }
 },
 "nbformat": 4,
 "nbformat_minor": 0
}