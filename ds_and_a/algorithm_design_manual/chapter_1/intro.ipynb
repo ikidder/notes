{
 "cells": [
  {
   "cell_type": "markdown",
   "metadata": {
    "collapsed": true,
    "pycharm": {
     "name": "#%% md\n"
    }
   },
   "source": [
    "# Definitions\n",
    "* Algorithm - a prodecure to accomplish a specific task\n",
    "    * Three desirable properties of an algorithm:\n",
    "        * correct\n",
    "        * efficient\n",
    "        * easy to implement\n",
    "* Heuristic - a method for solving a problem in a way that works well enough for the given context, without being correct or efficient in other contexts. (get better definition)"
   ]
  },
  {
   "cell_type": "markdown",
   "source": [
    "# Correctness\n",
    "\n",
    "## Demonstrating Incorrectness\n",
    "The best way to prove an algorithm is incorrect is by counter example. Give an input for which the algorithm outputs an incorrect answer.\n",
    "Hunting for counter-examples:\n",
    "* Think small\n",
    "* Think exhaustively\n",
    "* Hunt for the weakness\n",
    "* Go for the tie (e.g. in a greedy algorithm)\n",
    "* Seek extremes\n",
    "\n",
    "## Induction and Recursion\n",
    "\n",
    "Induction is usually the right way to verify the correctness of a recursive or incremental insertion algorithm.\n",
    "\n",
    "## Proof by Contradiction\n",
    "1. Assume the hypothesis is false\n",
    "2. Develop some logical consequences of this assumption\n",
    "3. Show that one consequence is demonstably false."
   ],
   "metadata": {
    "collapsed": false,
    "pycharm": {
     "name": "#%% md\n"
    }
   }
  }
 ],
 "metadata": {
  "kernelspec": {
   "display_name": "Python 3",
   "language": "python",
   "name": "python3"
  },
  "language_info": {
   "codemirror_mode": {
    "name": "ipython",
    "version": 2
   },
   "file_extension": ".py",
   "mimetype": "text/x-python",
   "name": "python",
   "nbconvert_exporter": "python",
   "pygments_lexer": "ipython2",
   "version": "2.7.6"
  }
 },
 "nbformat": 4,
 "nbformat_minor": 0
}