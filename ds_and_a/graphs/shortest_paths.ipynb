{
 "cells": [
  {
   "cell_type": "raw",
   "source": [
    "# #%% md\n",
    "Shortest Paths\n",
    "Goal: compute distance(v), the fewest # of edges on a path from s to v.\n",
    "\n",
    "Similar to BFS, but with some extra work:\n",
    "* Initialize dist(v) = {0 if v = s, math.inf if v <> s}\n",
    "* When considering edge (v,w) - if w unexplored, then set dist(w) = dist(v) + 1"
   ],
   "metadata": {
    "collapsed": false,
    "pycharm": {
     "name": ""
    }
   }
  }
 ],
 "metadata": {
  "kernelspec": {
   "display_name": "Python 3",
   "language": "python",
   "name": "python3"
  },
  "language_info": {
   "codemirror_mode": {
    "name": "ipython",
    "version": 2
   },
   "file_extension": ".py",
   "mimetype": "text/x-python",
   "name": "python",
   "nbconvert_exporter": "python",
   "pygments_lexer": "ipython2",
   "version": "2.7.6"
  }
 },
 "nbformat": 4,
 "nbformat_minor": 0
}