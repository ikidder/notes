{
 "cells": [
  {
   "cell_type": "markdown",
   "source": [
    "# DFS\n",
    "Depth First Search\n",
    "\n",
    "Usually implemented with a stack and a hashset"
   ],
   "metadata": {
    "collapsed": false,
    "pycharm": {
     "name": "#%% md\n"
    }
   }
  },
  {
   "cell_type": "code",
   "execution_count": 1,
   "outputs": [],
   "source": [
    "def depth_first_search(graph: dict, start: str) -> set[str]:\n",
    "    \"\"\"Depth First Search on Graph\n",
    "    :param graph: directed graph in dictionary format\n",
    "    :param start: starting vertex as a string\n",
    "    :returns: the trace of the search\n",
    "    \"\"\"\n",
    "    explored, stack = set(start), [start]\n",
    "\n",
    "    while stack:\n",
    "        v = stack.pop()\n",
    "        explored.add(v)\n",
    "        # Differences from BFS:\n",
    "        # 1) pop last element instead of first one\n",
    "        # 2) add adjacent elements to stack without exploring them\n",
    "        for adj in reversed(graph[v]):\n",
    "            if adj not in explored:\n",
    "                stack.append(adj)\n",
    "    return explored\n",
    "\n",
    "# https://github.com/TheAlgorithms/Python/blob/master/graphs/depth_first_search.py"
   ],
   "metadata": {
    "collapsed": false,
    "pycharm": {
     "name": "#%%\n"
    }
   }
  },
  {
   "cell_type": "code",
   "execution_count": 2,
   "outputs": [
    {
     "data": {
      "text/plain": "True"
     },
     "execution_count": 2,
     "metadata": {},
     "output_type": "execute_result"
    }
   ],
   "source": [
    "input_G = {\n",
    "    \"A\": [\"B\", \"C\", \"D\"],\n",
    "    \"B\": [\"A\", \"D\", \"E\"],\n",
    "    \"C\": [\"A\", \"F\"],\n",
    "    \"D\": [\"B\", \"D\"],\n",
    "    \"E\": [\"B\", \"F\"],\n",
    "    \"F\": [\"C\", \"E\", \"G\"],\n",
    "    \"G\": [\"F\"]\n",
    "}\n",
    "output_G = list({'A', 'B', 'C', 'D', 'E', 'F', 'G'})\n",
    "all(x in output_G for x in list(depth_first_search(input_G, \"A\")))\n",
    "True\n",
    "all(x in output_G for x in list(depth_first_search(input_G, \"G\")))\n",
    "True"
   ],
   "metadata": {
    "collapsed": false,
    "pycharm": {
     "name": "#%%\n"
    }
   }
  },
  {
   "cell_type": "code",
   "execution_count": 3,
   "outputs": [
    {
     "name": "stdout",
     "output_type": "stream",
     "text": [
      "0 1 4 2 5 3 6 None\n"
     ]
    }
   ],
   "source": [
    "# Alternate implementation\n",
    "# from https://github.com/prabhupant/python-ds/blob/master/data_structures/graphs/dfs.py\n",
    "from collections import defaultdict\n",
    "\n",
    "class Graph:\n",
    "\n",
    "    def __init__(self):\n",
    "        self.graph = defaultdict(list)\n",
    "\n",
    "\n",
    "    def add_edge(self, u, v):\n",
    "        self.graph[u].append(v)\n",
    "        self.graph[v].append(u)\n",
    "\n",
    "\n",
    "    def dfs_util(self, v, visited):\n",
    "        visited[v] = True\n",
    "        print(v, end=' ')\n",
    "\n",
    "        for i in self.graph[v]:\n",
    "            if visited[i] == False:\n",
    "                self.dfs_util(i, visited)\n",
    "\n",
    "\n",
    "    def dfs(self, v):\n",
    "        visited = [False] * (len(self.graph))\n",
    "        self.dfs_util(v, visited)\n",
    "\n",
    "\n",
    "g = Graph()\n",
    "g.add_edge(0, 1)\n",
    "g.add_edge(0, 2)\n",
    "g.add_edge(0, 3)\n",
    "g.add_edge(1, 4)\n",
    "g.add_edge(2, 5)\n",
    "g.add_edge(3, 6)\n",
    "print(g.dfs(0))"
   ],
   "metadata": {
    "collapsed": false,
    "pycharm": {
     "name": "#%%\n"
    }
   }
  },
  {
   "cell_type": "code",
   "execution_count": null,
   "outputs": [],
   "source": [],
   "metadata": {
    "collapsed": false,
    "pycharm": {
     "name": "#%%\n",
     "is_executing": true
    }
   }
  },
  {
   "cell_type": "markdown",
   "source": [
    "# BFS\n",
    "Breadth First Search\n",
    "\n",
    "Usually implemented with a double-ended queue and a hashset"
   ],
   "metadata": {
    "collapsed": false,
    "pycharm": {
     "name": "#%% md\n"
    }
   }
  },
  {
   "cell_type": "code",
   "execution_count": 4,
   "outputs": [
    {
     "name": "stdout",
     "output_type": "stream",
     "text": [
      "0 1 2 3 4 5 "
     ]
    }
   ],
   "source": [
    "from collections import defaultdict\n",
    "\n",
    "class Graph:\n",
    "\n",
    "    def __init__(self, vertices):\n",
    "        self.graph = defaultdict(list)\n",
    "        self.vertices = vertices\n",
    "\n",
    "\n",
    "    def add_edge(self, u, v):\n",
    "        self.graph[u].append(v)\n",
    "\n",
    "\n",
    "    def bfs(self, s):\n",
    "        visited = [False] * self.vertices\n",
    "\n",
    "        queue = []\n",
    "\n",
    "        queue.append(s)\n",
    "        visited[s] = True\n",
    "\n",
    "        bfs = []\n",
    "\n",
    "        while queue:\n",
    "            s = queue.pop(0)\n",
    "            print(s, end=' ')\n",
    "            for i in self.graph[s]:\n",
    "                if visited[i] == False:\n",
    "                    queue.append(i)\n",
    "                    visited[i] = True\n",
    "\n",
    "g = Graph(6)\n",
    "\n",
    "g.add_edge(0, 1)\n",
    "g.add_edge(0, 2)\n",
    "g.add_edge(1, 3)\n",
    "g.add_edge(0, 3)\n",
    "g.add_edge(2, 4)\n",
    "g.add_edge(3, 4)\n",
    "g.add_edge(3, 5)\n",
    "\n",
    "g.bfs(0)"
   ],
   "metadata": {
    "collapsed": false,
    "pycharm": {
     "name": "#%%\n"
    }
   }
  },
  {
   "cell_type": "code",
   "execution_count": null,
   "outputs": [],
   "source": [],
   "metadata": {
    "collapsed": false,
    "pycharm": {
     "name": "#%%\n",
     "is_executing": true
    }
   }
  },
  {
   "cell_type": "markdown",
   "source": [
    "# Union Find"
   ],
   "metadata": {
    "collapsed": false,
    "pycharm": {
     "name": "#%% md\n"
    }
   },
   "outputs": []
  },
  {
   "cell_type": "code",
   "execution_count": 4,
   "outputs": [],
   "source": [],
   "metadata": {
    "collapsed": false,
    "pycharm": {
     "name": "#%%\n"
    }
   }
  },
  {
   "cell_type": "markdown",
   "source": [
    "# Topological Sort\n",
    "given a directed acyclical graph"
   ],
   "metadata": {
    "collapsed": false,
    "pycharm": {
     "name": "#%% md\n"
    }
   }
  },
  {
   "cell_type": "code",
   "execution_count": null,
   "outputs": [],
   "source": [],
   "metadata": {
    "collapsed": false,
    "pycharm": {
     "name": "#%%\n",
     "is_executing": true
    }
   }
  },
  {
   "cell_type": "markdown",
   "source": [
    "# Dijkstra's Algorithm\n",
    "usually implemented with a heap and a hashset"
   ],
   "metadata": {
    "collapsed": false,
    "pycharm": {
     "name": "#%% md\n"
    }
   }
  }
 ],
 "metadata": {
  "kernelspec": {
   "display_name": "Python 3",
   "language": "python",
   "name": "python3"
  },
  "language_info": {
   "codemirror_mode": {
    "name": "ipython",
    "version": 2
   },
   "file_extension": ".py",
   "mimetype": "text/x-python",
   "name": "python",
   "nbconvert_exporter": "python",
   "pygments_lexer": "ipython2",
   "version": "2.7.6"
  }
 },
 "nbformat": 4,
 "nbformat_minor": 0
}