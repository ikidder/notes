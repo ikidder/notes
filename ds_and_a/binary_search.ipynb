{
 "cells": [
  {
   "cell_type": "markdown",
   "metadata": {
    "collapsed": true,
    "pycharm": {
     "name": "#%% md\n"
    }
   },
   "source": [
    "# Binary Search\n",
    "efficiently locate a value within a **sorted** array\n",
    "\n",
    "Best case: 𝘖(1)\n",
    "Worst case: 𝘖(log₂ n)"
   ]
  },
  {
   "cell_type": "code",
   "execution_count": 1,
   "outputs": [],
   "source": [
    "def binary_search(data, target, low, high):\n",
    "    if low > high:\n",
    "        return -1\n",
    "\n",
    "    mid = (low + high) // 2\n",
    "    if target == data[mid]:\n",
    "        return mid\n",
    "    elif target < data[mid]:\n",
    "        return binary_search(data, target, low, mid - 1)\n",
    "    else:\n",
    "        return binary_search(data, target, mid + 1, high)"
   ],
   "metadata": {
    "collapsed": false,
    "pycharm": {
     "name": "#%%\n"
    }
   }
  },
  {
   "cell_type": "code",
   "execution_count": 4,
   "outputs": [
    {
     "name": "stdout",
     "output_type": "stream",
     "text": [
      "[0, 1, 2, 3, 4, 5, 6, 7, 8, 9, 10, 11, 12, 13, 14, 15, 16, 17, 18, 19, 20, 21, 22, 23, 24, 25, 26, 27, 28, 29]\n",
      "target:  4\n",
      "index:  4\n"
     ]
    }
   ],
   "source": [
    "d = list(range(0,30))\n",
    "print(d)\n",
    "target = 4\n",
    "print('target: ', target)\n",
    "i = binary_search(d, target, 0, len(d)-1)\n",
    "print('index: ', i)"
   ],
   "metadata": {
    "collapsed": false,
    "pycharm": {
     "name": "#%%\n"
    }
   }
  },
  {
   "cell_type": "code",
   "execution_count": null,
   "outputs": [],
   "source": [],
   "metadata": {
    "collapsed": false,
    "pycharm": {
     "name": "#%%\n"
    }
   }
  }
 ],
 "metadata": {
  "kernelspec": {
   "display_name": "Python 3",
   "language": "python",
   "name": "python3"
  },
  "language_info": {
   "codemirror_mode": {
    "name": "ipython",
    "version": 2
   },
   "file_extension": ".py",
   "mimetype": "text/x-python",
   "name": "python",
   "nbconvert_exporter": "python",
   "pygments_lexer": "ipython2",
   "version": "2.7.6"
  }
 },
 "nbformat": 4,
 "nbformat_minor": 0
}