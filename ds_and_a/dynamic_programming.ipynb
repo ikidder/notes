{
 "cells": [
  {
   "cell_type": "markdown",
   "source": [
    "# Dynamic Programming\n",
    "\n",
    "general, powerful algorithm design technique\n",
    "good for optimization problems: shortest paths, etc.\n",
    "\n",
    "dynamic programming is usually an exhaustive search, cleverly done. careful brute force, in other words.\n",
    "\n",
    "Basic idea is to split a problem into subproblems, solve the subproblems, and reuse that solution.\n",
    "\n",
    "_Subproblem dependencies should be acyclic._\n",
    "\n",
    "DP ~= recursion + memoization + guessing\n",
    "\n",
    "MIT OpenCourseWare Videos:\n",
    "part 1 -> https://www.youtube.com/watch?v=OQ5jsbhAv_M\n",
    "part 2 -> https://www.youtube.com/watch?v=ENyox7kNKeY\n",
    "\n",
    "the name dynamic programming doesn't mean anything. it was chosen by the inventor because the word \"research\" was offensive to some congressman."
   ],
   "metadata": {
    "collapsed": false,
    "pycharm": {
     "name": "#%% md\n"
    }
   },
   "outputs": []
  },
  {
   "cell_type": "markdown",
   "source": [
    "# 5 easy steps to DP\n",
    "1. define subproblems\n",
    "2. guess\n",
    "3. relate subproblem solutions\n",
    "4. recurse and memoize OR build table bottom-up\n",
    "5. solve original problem"
   ],
   "metadata": {
    "collapsed": false,
    "pycharm": {
     "name": "#%% md\n"
    }
   }
  },
  {
   "cell_type": "markdown",
   "source": [
    "# Fibonacci with DP"
   ],
   "metadata": {
    "collapsed": false,
    "pycharm": {
     "name": "#%% md\n"
    }
   }
  },
  {
   "cell_type": "code",
   "execution_count": 1,
   "outputs": [],
   "source": [
    "# Definition:\n",
    "# F1 = F2 = 1\n",
    "# Fn = Fn-1 + Fn-2\n",
    "\n",
    "# Naive recursive algorithm\n",
    "def fib(n):\n",
    "    if n <= 2:\n",
    "        f = 1\n",
    "    else:\n",
    "        f = fib(n-1) + fib(n-2)\n",
    "    return f\n",
    "\n",
    "# exponential time running\n",
    "# Recurrence: T(n) = T(n-1) + T(n-2) + O(1)"
   ],
   "metadata": {
    "collapsed": false,
    "pycharm": {
     "name": "#%%\n"
    }
   }
  },
  {
   "cell_type": "code",
   "execution_count": 2,
   "outputs": [],
   "source": [
    "# Memoization\n",
    "# technique of dynamic programming\n",
    "# reuse the solutions to subproblems by remembering the results and not\n",
    "# recomputing them.\n",
    "memo = {}\n",
    "def fib(n):\n",
    "    if n in memo:\n",
    "        f = memo[n]\n",
    "    elif n <= 2:\n",
    "        f = 1\n",
    "    else:\n",
    "        f = fib(n-1) + fib(n-2)\n",
    "        memo[n] = f\n",
    "    return f\n",
    "\n",
    "# in this verison, `fib(k)` only recurses the first time it's called\n",
    "# linear running time"
   ],
   "metadata": {
    "collapsed": false,
    "pycharm": {
     "name": "#%%\n"
    }
   }
  },
  {
   "cell_type": "markdown",
   "source": [
    "In general, the running time of a DP algorithm will be:\n",
    "time = (count of subproblems) * (time\n",
    "per subproblem)\n",
    "time per subproblem will often be constant."
   ],
   "metadata": {
    "collapsed": false,
    "pycharm": {
     "name": "#%% md\n"
    }
   }
  },
  {
   "cell_type": "code",
   "execution_count": 3,
   "outputs": [],
   "source": [
    "# Bottom Up DP algorithm for Fibonacci\n",
    "lookup = {}\n",
    "def fib(n):\n",
    "    for k in range(1, n+1):\n",
    "        if k <= 2: f = 1\n",
    "        else: f = lookup[k-1] + lookup[k-2]\n",
    "        fib[k] = f\n",
    "    return fib[n]\n",
    "\n",
    "# Exactly the same things happen, in the same order, as Memoization"
   ],
   "metadata": {
    "collapsed": false,
    "pycharm": {
     "name": "#%%\n"
    }
   }
  },
  {
   "cell_type": "markdown",
   "source": [],
   "metadata": {
    "collapsed": false,
    "pycharm": {
     "name": "#%% md\n"
    }
   }
  },
  {
   "cell_type": "markdown",
   "source": [],
   "metadata": {
    "collapsed": false,
    "pycharm": {
     "name": "#%% md\n"
    }
   }
  },
  {
   "cell_type": "code",
   "execution_count": null,
   "outputs": [],
   "source": [],
   "metadata": {
    "collapsed": false,
    "pycharm": {
     "name": "#%%\n"
    }
   }
  }
 ],
 "metadata": {
  "kernelspec": {
   "display_name": "Python 3",
   "language": "python",
   "name": "python3"
  },
  "language_info": {
   "codemirror_mode": {
    "name": "ipython",
    "version": 2
   },
   "file_extension": ".py",
   "mimetype": "text/x-python",
   "name": "python",
   "nbconvert_exporter": "python",
   "pygments_lexer": "ipython2",
   "version": "2.7.6"
  }
 },
 "nbformat": 4,
 "nbformat_minor": 0
}