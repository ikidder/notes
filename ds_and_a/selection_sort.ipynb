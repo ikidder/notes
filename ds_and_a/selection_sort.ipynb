{
 "cells": [
  {
   "cell_type": "markdown",
   "metadata": {
    "collapsed": true,
    "pycharm": {
     "name": "#%% md\n"
    }
   },
   "source": [
    "# selection sort\n",
    "https://www.khanacademy.org/computing/computer-science/algorithms/sorting-algorithms/a/analysis-of-selection-sort\n",
    "\n",
    "1. Find the smallest element, and swap it with the first element.\n",
    "2. Find the second smallest element, and swap it with the second element.\n",
    "3. Do that until the array is sorted\n",
    "\n",
    "Runtime: 𝛳(n²)\n",
    "\n",
    "estimating growth:\n",
    "say that selection sort takes n²/10^6 seconds to sort n values\n",
    "when n=100, 100²/10^6   = 1/100 seconds\n",
    "when n=1000, 1000²/10^6 = 1 second      (array grew by a factor of 10, but runtime grew by factor of 100)\n",
    "when n=1,000,000, ...   = 1,000,000 seconds = 11.5 days! (array grew by a factor of 1000, runtime grew by 1000000)"
   ]
  },
  {
   "cell_type": "code",
   "execution_count": 4,
   "outputs": [],
   "source": [
    "def selection_sort(seq):\n",
    "    for i in range(len(seq)):\n",
    "        smallest_index = i\n",
    "        for j in range(i, len(seq)):\n",
    "            if seq[j] < seq[smallest_index]:\n",
    "                smallest_index = j\n",
    "        seq[i], seq[smallest_index] = seq[smallest_index], seq[i]\n"
   ],
   "metadata": {
    "collapsed": false,
    "pycharm": {
     "name": "#%%\n"
    }
   }
  },
  {
   "cell_type": "code",
   "execution_count": 5,
   "outputs": [
    {
     "name": "stdout",
     "output_type": "stream",
     "text": [
      "[33, 56, 74, 5]  ->  [5, 33, 56, 74]\n",
      "[60, 38, 28, 96]  ->  [28, 38, 60, 96]\n",
      "[68, 44, 80]  ->  [44, 68, 80]\n",
      "[19, 100, 63, 77, 98]  ->  [19, 63, 77, 98, 100]\n",
      "[30, 87, 81, 99, 72, 0, 57, 76, 75, 34, 75, 95, 33, 76, 0, 87, 96]  ->  [0, 0, 30, 33, 34, 57, 72, 75, 75, 76, 76, 81, 87, 87, 95, 96, 99]\n",
      "[94, 40, 12, 87, 90, 61, 96, 74, 65, 10, 100, 96, 11, 42, 77, 37, 97, 59]  ->  [10, 11, 12, 37, 40, 42, 59, 61, 65, 74, 77, 87, 90, 94, 96, 96, 97, 100]\n",
      "[82, 69, 68, 43, 26, 65, 72, 80, 0]  ->  [0, 26, 43, 65, 68, 69, 72, 80, 82]\n",
      "[40, 41, 81, 97, 92]  ->  [40, 41, 81, 92, 97]\n",
      "[98, 21, 71, 90, 69]  ->  [21, 69, 71, 90, 98]\n",
      "[94, 61, 5, 70, 50]  ->  [5, 50, 61, 70, 94]\n"
     ]
    }
   ],
   "source": [
    "import random\n",
    "for i in range(10):\n",
    "    seq = [random.randint(0,100) for i in range(random.randint(0,20))]\n",
    "    temp = str(seq)\n",
    "    selection_sort(seq)\n",
    "    print(temp, ' -> ', seq)"
   ],
   "metadata": {
    "collapsed": false,
    "pycharm": {
     "name": "#%%\n"
    }
   }
  },
  {
   "cell_type": "code",
   "execution_count": null,
   "outputs": [],
   "source": [],
   "metadata": {
    "collapsed": false,
    "pycharm": {
     "name": "#%%\n"
    }
   }
  }
 ],
 "metadata": {
  "kernelspec": {
   "display_name": "Python 3",
   "language": "python",
   "name": "python3"
  },
  "language_info": {
   "codemirror_mode": {
    "name": "ipython",
    "version": 2
   },
   "file_extension": ".py",
   "mimetype": "text/x-python",
   "name": "python",
   "nbconvert_exporter": "python",
   "pygments_lexer": "ipython2",
   "version": "2.7.6"
  }
 },
 "nbformat": 4,
 "nbformat_minor": 0
}