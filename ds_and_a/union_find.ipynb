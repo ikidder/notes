{
 "cells": [
  {
   "cell_type": "markdown",
   "source": [
    "# Union Find algorithm\n",
    "https://cuvids.io/app/video/97/watch/\n",
    "\n",
    "## Applications\n",
    "* Percolation (electricity, fluid flow, social interaction)\n",
    "    * For N x N grid, check percolation by creating a virtual top site and a virtual bottom site. This prevents having to check each top square against each bottom square. (@ 7:14 in Applications video)\n",
    "    * For N x N grid, to open a square, you union on any of the four surrounding sqaures that are open.\n",
    "* Games (Go, Hex)\n",
    "* Dynamic Connectivity\n",
    "* Least common ancestor\n",
    "* Equivalence of finite state automata\n",
    "* Hinley-Milner polymorphic type inference\n",
    "* Kruskal's minimum spanning tree algorithm\n",
    "* Matlab's bwlabel() function in image processing"
   ],
   "metadata": {
    "collapsed": false,
    "pycharm": {
     "name": "#%% md\n"
    }
   }
  },
  {
   "cell_type": "markdown",
   "source": [
    "## Dynamic connectivity problem\n",
    "Given a set of N objects:\n",
    "* Union: connect two objects\n",
    "* Find: is there a path connecting two objects?\n",
    "\n",
    "Note that we're not looking for the path between objects. That's a different algorithm. Here, we're just looking for a boolean stating whether objects are connected."
   ],
   "metadata": {
    "collapsed": false,
    "pycharm": {
     "name": "#%% md\n"
    }
   }
  },
  {
   "cell_type": "markdown",
   "source": [
    "## Quick Find\n",
    "* Eager algorithm\n",
    "* integer array id[] of size N\n",
    "* Interpretation: `p` and `q` are connected iff they have the same id. We want to find out whether some integers are connected, so we use those integers as indexes into an array, where we store that information.\n",
    "\n",
    "id[]  =  [0, 1, 1, 8, 8, 0, 0, 1, 8, 8]\n",
    "(index)   0  1  2  3  4  5  6  7  8  9\n",
    "\n",
    "0, 5, and 6 are connected\n",
    "1, 2, and 7 are connected\n",
    "3, 4, 8, and 9 are connected\n",
    "\n",
    "**Find O(1)**: To implement `find`, just check if `id[p]` and `id[q]` are equal to each other.\n",
    "**Union O(n)**: To merge `p` and `q`, we make `id[p]` and `id[q]` to be equal. We arbitrarily choose to set `id[p]` to `id[q]`.\n",
    "\n",
    "**Defect**: Union too expensive (N array accesses)"
   ],
   "metadata": {
    "collapsed": false,
    "pycharm": {
     "name": "#%% md\n"
    }
   }
  },
  {
   "cell_type": "code",
   "execution_count": 1,
   "outputs": [],
   "source": [
    "class QuickFind:\n",
    "    def __init__(self, n):\n",
    "        self.id = list(range(n))\n",
    "\n",
    "    def find(self, p: int, q: int) -> bool:\n",
    "        return self.id[p] == self.id[q]\n",
    "\n",
    "    def union(self, p: int, q: int) -> bool:\n",
    "        for i in range(len(self.id)):\n",
    "            if self.id[i] == self.id[p]:\n",
    "                self.id[i] = self.id[q]"
   ],
   "metadata": {
    "collapsed": false,
    "pycharm": {
     "name": "#%%\n"
    }
   }
  },
  {
   "cell_type": "markdown",
   "source": [
    "## Quick Union\n",
    "* integer array `id[]` of size N\n",
    "* interpretation: `id[i]` is the parent of `i`\n",
    "* Root of `i` is `id[id[id[...id[i]...]]]`\n",
    "\n",
    "Think of the array as representing a set of tree nodes.\n",
    "id[] = [0, 1, 9, 4, 9, 6, 6, 7, 8, 9]\n",
    "index   0, 1, 2, 3, 4, 5, 6, 7, 8, 9\n",
    "\n",
    "Means that 3's parent is 4, and 4's parent is 9\n",
    "0   1   9   6   7   7   8   9\n",
    "       2 4  5\n",
    "         3\n",
    "\n",
    "**Find O(n)**: check if `p` and `q` have the same root.\n",
    "**Union O(n)**: to merge all components containing `p` and `q`, set the id of p's root to the id of q's root.\n",
    "\n",
    "**Defect**: trees can get tall. which makes Find too expensive."
   ],
   "metadata": {
    "collapsed": false,
    "pycharm": {
     "name": "#%% md\n"
    }
   }
  },
  {
   "cell_type": "code",
   "execution_count": 2,
   "outputs": [],
   "source": [
    "class QuickUnion:\n",
    "    def __init__(self, n):\n",
    "        self.id = list(range(n)) # set id of each object to itself\n",
    "\n",
    "    def root(self, i: int) -> int:\n",
    "        # chase pointers until reach root\n",
    "        while i != self.id[i]:\n",
    "            i = self.id[i]\n",
    "        return i\n",
    "\n",
    "    def find(self, p: int, q: int) -> bool:\n",
    "        # check if p and q have same root\n",
    "        return self.root(p) == self.root(q)\n",
    "\n",
    "    def union(self, p: int, q: int) -> bool:\n",
    "        # change root of p to point to root of q\n",
    "        i = self.root(p)\n",
    "        j = self.root(q)\n",
    "        self.id[i] = j\n"
   ],
   "metadata": {
    "collapsed": false,
    "pycharm": {
     "name": "#%%\n"
    }
   }
  },
  {
   "cell_type": "markdown",
   "source": [
    "## Weighted Quick Union\n",
    "* modify quick union to avoid tall trees\n",
    "* keep track of size of each tree\n",
    "* balance by linking root of smaller tree to root of larger tree\n",
    "\n",
    "**Find O(lg N)**: check if `p` and `q` have the same root\n",
    "**Union O(lg N)**: change root of smaller tree to point to root of larger tree\n",
    "\n",
    "**Analysis**:\n",
    "* Find takes time proportional to depth of `p` and `q`.\n",
    "* Union is O(n) because of having to find roots\n",
    "* Depth of any node is at most `lg N`\n"
   ],
   "metadata": {
    "collapsed": false,
    "pycharm": {
     "name": "#%% md\n"
    }
   }
  },
  {
   "cell_type": "code",
   "execution_count": 3,
   "outputs": [],
   "source": [
    "class WeightedQuickUnion:\n",
    "    def __init__(self, n):\n",
    "        self.id = list(range(n))\n",
    "        self.sz = [1] * n    # add array to store sizes of trees\n",
    "\n",
    "    def root(self, i: int) -> int:\n",
    "        while i != self.id[i]:\n",
    "            i = self.id[i]\n",
    "        return i\n",
    "\n",
    "    def find(self, p: int, q: int) -> bool:\n",
    "        return self.root(p) == self.root(q)\n",
    "\n",
    "    def union(self, p: int, q: int) -> bool:\n",
    "        # change root of smaller tree to point to root of larger tree\n",
    "        # update size of larger tree\n",
    "        p_root = self.root(p)\n",
    "        q_root = self.root(q)\n",
    "        if self.sz[p] < self.sz[q]:\n",
    "            self.id[p_root] = q_root\n",
    "            self.sz[q_root] += self.sz[p_root]\n",
    "        else:\n",
    "            self.id[q_root] = p_root\n",
    "            self.sz[p_root] += self.sz[q_root]\n"
   ],
   "metadata": {
    "collapsed": false,
    "pycharm": {
     "name": "#%%\n"
    }
   }
  },
  {
   "cell_type": "markdown",
   "source": [
    "## Weighted Quick Union with Path Compression\n",
    "when we're trying to find the root of a given tree, we're touching all the nodes on the path from that node to the root. While we're at it, we might as well make each one of those point to the root.\n",
    "\n",
    "Two-pass implementation: add second loop to `root()` to set the `id[]` of each examined node to the root\n",
    "\n",
    "Simpler one-pass variant: Make every other node in path point to its grandparent (thereby halving path length)."
   ],
   "metadata": {
    "collapsed": false,
    "pycharm": {
     "name": "#%% md\n"
    }
   }
  },
  {
   "cell_type": "code",
   "execution_count": null,
   "outputs": [],
   "source": [
    "def root(self, i: int) -> int:\n",
    "    while i != self.id[i]:\n",
    "        id[i] = id[id[i]]  # <- Only one line of extra code for the one-pass variant\n",
    "        i = self.id[i]\n",
    "    return i"
   ],
   "metadata": {
    "collapsed": false,
    "pycharm": {
     "name": "#%%\n"
    }
   }
  }
 ],
 "metadata": {
  "kernelspec": {
   "display_name": "Python 3",
   "language": "python",
   "name": "python3"
  },
  "language_info": {
   "codemirror_mode": {
    "name": "ipython",
    "version": 2
   },
   "file_extension": ".py",
   "mimetype": "text/x-python",
   "name": "python",
   "nbconvert_exporter": "python",
   "pygments_lexer": "ipython2",
   "version": "2.7.6"
  }
 },
 "nbformat": 4,
 "nbformat_minor": 0
}