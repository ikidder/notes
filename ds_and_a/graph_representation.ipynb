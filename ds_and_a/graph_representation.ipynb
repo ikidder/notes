{
 "cells": [
  {
   "cell_type": "markdown",
   "metadata": {
    "collapsed": true,
    "pycharm": {
     "name": "#%% md\n"
    }
   },
   "source": [
    "# 3 ways to represent a graph\n",
    "https://www.khanacademy.org/computing/computer-science/algorithms/graph-representation/a/representing-graphs\n",
    "\n",
    "V - set of vertices of a graph\n",
    "E - set of edges of a graph\n",
    "When analyzing graph algorithms, we do so in reference to V and/or E.\n",
    "\n",
    "degree - the degree of a vertex is the number of edges connected to it."
   ]
  },
  {
   "cell_type": "markdown",
   "source": [
    "## Edge List\n",
    "A list of lists, where each sublist is a pair of vertices that are connected in the graph.\n",
    "\n",
    "For example:\n",
    "[ [0, 1], [0,2], [1, 3], [2, 3] ]\n",
    "describes a graph where 0 has edges to both 1 and 2, etc.\n",
    "\n",
    "Space: 𝘖(E)\n",
    "Find edge: 𝘖(E)\n",
    "\n",
    "For edge weights, make the sublists a triple."
   ],
   "metadata": {
    "collapsed": false,
    "pycharm": {
     "name": "#%% md\n"
    }
   }
  },
  {
   "cell_type": "markdown",
   "source": [
    "## Adjacency Matrix\n",
    "For a graph with V vertices, an adjacency matrix is a V x V matrix of 0s and 1s, where the value in row i and column j is a 1 iff the edge(i,j) is in the graph.\n",
    "\n",
    "For edge weights, put those values in the matrix, and use None to indicate no edge.\n",
    "\n",
    "To find vertices adjacent to some vertex i, you have to look through all entries in the row i.\n",
    "\n",
    "Space: 𝘖(V²)\n",
    "Find edge: 𝘖(1)\n",
    "Find neighbors: 𝘖(V)\n"
   ],
   "metadata": {
    "collapsed": false,
    "pycharm": {
     "name": "#%% md\n"
    }
   }
  },
  {
   "cell_type": "markdown",
   "source": [
    "## Adjacency List\n",
    "\n",
    "For each vertex, store a list of vertices that are adjacent to it.\n",
    "\n",
    "Space (worst case, when the graph is dense): 𝛳(v²)\n",
    "Space (general case): 𝛳(V + E)"
   ],
   "metadata": {
    "collapsed": false,
    "pycharm": {
     "name": "#%% md\n"
    }
   }
  }
 ],
 "metadata": {
  "kernelspec": {
   "display_name": "Python 3",
   "language": "python",
   "name": "python3"
  },
  "language_info": {
   "codemirror_mode": {
    "name": "ipython",
    "version": 2
   },
   "file_extension": ".py",
   "mimetype": "text/x-python",
   "name": "python",
   "nbconvert_exporter": "python",
   "pygments_lexer": "ipython2",
   "version": "2.7.6"
  }
 },
 "nbformat": 4,
 "nbformat_minor": 0
}