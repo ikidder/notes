{
 "cells": [
  {
   "cell_type": "markdown",
   "metadata": {
    "collapsed": true,
    "pycharm": {
     "name": "#%% md\n"
    }
   },
   "source": [
    "# merge sort\n",
    "https://www.khanacademy.org/computing/computer-science/algorithms/merge-sort/a/overview-of-merge-sort\n",
    "\n",
    "Best, avg, and worst runtime: 𝛳(n lg n)\n",
    "(similar to quick sort, but merge sort has a better worst case runtime.)"
   ]
  },
  {
   "cell_type": "markdown",
   "source": [
    "Using divide and conquer to sort an array of length n:\n",
    "1. Divide by finding _q_ the midway between 0 and n-1. Do this the same way as binary search. Add the two indexes, divide by 2, and round down.\n",
    "2. Conquer by recursively sorting the two subarrays array[0..q] and array[q+1..n-1]\n",
    "3. Combine by merging the two sorted subarrays into array[0..n-1]\n",
    "\n",
    "base case for recursion: when a subarray has less than two elements"
   ],
   "metadata": {
    "collapsed": false,
    "pycharm": {
     "name": "#%% md\n"
    }
   }
  },
  {
   "cell_type": "code",
   "execution_count": 23,
   "outputs": [],
   "source": [
    "def merge_sort(seq):\n",
    "    if len(seq) < 2: # base case\n",
    "        return seq[:len(seq)] # copy the input\n",
    "    mid = len(seq) // 2\n",
    "    seq1 = merge_sort(seq[0:mid])\n",
    "    seq2 = merge_sort(seq[mid:len(seq)])\n",
    "    return merge(seq1, seq2)\n",
    "\n",
    "def merge(left, right):\n",
    "    #print(left, '   &   ', right)\n",
    "    left_i, right_i = 0, 0\n",
    "    result = []\n",
    "    while left_i < len(left) and right_i < len(right):\n",
    "        if left[left_i] <= right[right_i]:\n",
    "            result.append(left[left_i])\n",
    "            left_i = left_i + 1\n",
    "        else:\n",
    "            result.append(right[right_i])\n",
    "            right_i = right_i + 1\n",
    "    # at this point, we are at the end of at least one sequence\n",
    "    result.extend(left[left_i:])\n",
    "    result.extend(right[right_i:])\n",
    "    return result"
   ],
   "metadata": {
    "collapsed": false,
    "pycharm": {
     "name": "#%%\n"
    }
   }
  },
  {
   "cell_type": "code",
   "execution_count": 24,
   "outputs": [
    {
     "name": "stdout",
     "output_type": "stream",
     "text": [
      "[52, 14, 40, 42, 21, 33, 6, 66, 60, 65, 76, 84, 61, 65, 57]\n",
      "[6, 14, 21, 33, 40, 42, 52, 57, 60, 61, 65, 65, 66, 76, 84]\n",
      "********************\n",
      "[13, 70, 14, 30, 3]\n",
      "[3, 13, 14, 30, 70]\n",
      "********************\n",
      "[19, 33, 12, 1, 90, 48, 49, 26, 28, 74, 81, 18, 87, 66, 57, 19, 7, 8]\n",
      "[1, 7, 8, 12, 18, 19, 19, 26, 28, 33, 48, 49, 57, 66, 74, 81, 87, 90]\n",
      "********************\n",
      "[]\n",
      "[]\n",
      "********************\n",
      "[68, 45, 27, 52, 56, 76, 78, 97, 48, 50, 99, 29, 26, 90, 59, 14, 52, 59, 26, 75]\n",
      "[14, 26, 26, 27, 29, 45, 48, 50, 52, 52, 56, 59, 59, 68, 75, 76, 78, 90, 97, 99]\n",
      "********************\n",
      "[20, 86, 29, 88, 49, 18]\n",
      "[18, 20, 29, 49, 86, 88]\n",
      "********************\n",
      "[58, 11, 81, 51, 51, 58, 13, 76, 29, 22, 39]\n",
      "[11, 13, 22, 29, 39, 51, 51, 58, 58, 76, 81]\n",
      "********************\n",
      "[]\n",
      "[]\n",
      "********************\n",
      "[9, 17, 87]\n",
      "[9, 17, 87]\n",
      "********************\n",
      "[95, 12, 67, 51, 96, 30]\n",
      "[12, 30, 51, 67, 95, 96]\n",
      "********************\n"
     ]
    }
   ],
   "source": [
    "import random\n",
    "for i in range(10):\n",
    "    l = [random.randint(0,100) for _ in range(random.randint(0,20))]\n",
    "    print(l)\n",
    "    print(merge_sort(l))\n",
    "    print('*' * 20)"
   ],
   "metadata": {
    "collapsed": false,
    "pycharm": {
     "name": "#%%\n"
    }
   }
  },
  {
   "cell_type": "markdown",
   "source": [
    "# Leetcode 148\n",
    "Given the head of a linked list, return the list after sorting it in ascending order.\n",
    "Sort the linked list in O(n logn) time and O(1) memory (i.e. constant space)."
   ],
   "metadata": {
    "collapsed": false,
    "pycharm": {
     "name": "#%% md\n"
    }
   }
  },
  {
   "cell_type": "code",
   "execution_count": 25,
   "outputs": [],
   "source": [
    "# solution using merge sort\n",
    "# from https://github.com/Garvit244/Leetcode/blob/master/100-200q/148.py\n",
    "\n",
    "# Definition for singly-linked list.\n",
    "class ListNode(object):\n",
    "    def __init__(self, x):\n",
    "        self.val = x\n",
    "        self.next = None\n",
    "\n",
    "class Solution(object):\n",
    "    def sortList(self, head):\n",
    "        \"\"\"\n",
    "        :type head: ListNode\n",
    "        :rtype: ListNode\n",
    "        \"\"\"\n",
    "\n",
    "        if not head or not head.next:\n",
    "        \treturn head\n",
    "\n",
    "        slow, fast = head, head.next\n",
    "\n",
    "        while fast.next and fast.next.next:\n",
    "        \tslow = slow.next\n",
    "        \tfast = fast.next.next\n",
    "\n",
    "        head1, head2 = head, slow.next\n",
    "        slow.next = None\n",
    "        head1 = self.sortList(head1)\n",
    "        head2 = self.sortList(head2)\n",
    "        head = self.merge(head1, head2)\n",
    "        return head\n",
    "\n",
    "    def merge(self, head1, head2):\n",
    "    \tif not head1:\n",
    "    \t\treturn head2\n",
    "    \tif not head2:\n",
    "    \t\treturn head1\n",
    "\n",
    "    \tresult = ListNode(0)\n",
    "    \tp = result\n",
    "\n",
    "    \twhile head1 and head2:\n",
    "    \t\tif head1.val <= head2.val:\n",
    "    \t\t\tp.next = ListNode(head1.val)\n",
    "    \t\t\thead1 = head1.next\n",
    "    \t\t\tp = p.next\n",
    "    \t\telse:\n",
    "    \t\t\tp.next = ListNode(head2.val)\n",
    "    \t\t\thead2 = head2.next\n",
    "    \t\t\tp = p.next\n",
    "\n",
    "    \tif head1:\n",
    "    \t\tp.next = head1\n",
    "    \tif head2:\n",
    "    \t\tp.next = head2\n",
    "    \treturn result.next"
   ],
   "metadata": {
    "collapsed": false,
    "pycharm": {
     "name": "#%%\n"
    }
   }
  },
  {
   "cell_type": "code",
   "execution_count": null,
   "outputs": [],
   "source": [],
   "metadata": {
    "collapsed": false,
    "pycharm": {
     "name": "#%%\n"
    }
   }
  }
 ],
 "metadata": {
  "kernelspec": {
   "display_name": "Python 3",
   "language": "python",
   "name": "python3"
  },
  "language_info": {
   "codemirror_mode": {
    "name": "ipython",
    "version": 2
   },
   "file_extension": ".py",
   "mimetype": "text/x-python",
   "name": "python",
   "nbconvert_exporter": "python",
   "pygments_lexer": "ipython2",
   "version": "2.7.6"
  }
 },
 "nbformat": 4,
 "nbformat_minor": 0
}