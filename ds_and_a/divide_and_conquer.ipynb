{
 "cells": [
  {
   "cell_type": "markdown",
   "metadata": {
    "collapsed": true,
    "pycharm": {
     "name": "#%% md\n"
    }
   },
   "source": [
    "Divide and conquer is a common algorithmic paradigm based on recursion. A divide and conquer algorithm has three parts:\n",
    "1. _Divide_ the problem into subproblems that are the same kind of problem\n",
    "2. _Conquer_ the subproblems by solving them recursively\n",
    "3. _Combine_ the solutions to the subproblems into the solution for the original problem\n",
    "\n",
    "Examples of divide and conquer algorithms:\n",
    "1. merge sort\n",
    "2. quick sort\n",
    "\n",
    "https://www.khanacademy.org/computing/computer-science/algorithms/merge-sort/a/divide-and-conquer-algorithms"
   ]
  }
 ],
 "metadata": {
  "kernelspec": {
   "display_name": "Python 3",
   "language": "python",
   "name": "python3"
  },
  "language_info": {
   "codemirror_mode": {
    "name": "ipython",
    "version": 2
   },
   "file_extension": ".py",
   "mimetype": "text/x-python",
   "name": "python",
   "nbconvert_exporter": "python",
   "pygments_lexer": "ipython2",
   "version": "2.7.6"
  }
 },
 "nbformat": 4,
 "nbformat_minor": 0
}