{
 "cells": [
  {
   "cell_type": "markdown",
   "metadata": {
    "collapsed": true,
    "pycharm": {
     "name": "#%% md\n"
    }
   },
   "source": [
    "# Towers of Hanoi\n",
    "https://www.khanacademy.org/computing/computer-science/algorithms/towers-of-hanoi/a/towers-of-hanoi\n",
    "\n",
    "Towers of Hanoi. You are given a set of three pegs and n disks, with each disk a different size. Let's name the pegs A, B, and C, and let's number the disks from 1, the smallest disk, to _n_, the largest disk. At the outset, all _n_ disks are on peg A, in order of decreasing size from bottom to top, so that disk _n_ is on the bottom and disk 1 is on the top.\n",
    "\n",
    "The goal is to move all _n_ disks from peg A to peg B. Obeying these rules:\n",
    "1. You may only move one disk at a time.\n",
    "2. No disk may ever rest on top of a smaller disk."
   ]
  },
  {
   "cell_type": "markdown",
   "source": [
    "## Method\n",
    "1. Recursively solve the subproblem of moving disks 1 through _n_-1 from whichever peg they start on to the spare peg.\n",
    "2. Move disk _n_ from the peg it starts on to the peg it's supposed to end up on.\n",
    "3. Recursively solve the subproblem of moving disks 1 through _n_ - 1 from the spare peg to the peg they're supposed to end up on.\n",
    "\n",
    "## Analysis\n",
    "solving a problem for _n_ disks requires (2^n-1) moves:\n",
    "n = 1 -> only one move needed\n",
    "n = 2 -> 3 moves\n",
    "n = 3 -> 7 moves\n",
    "n = 4 -> 15 moves"
   ],
   "metadata": {
    "collapsed": false
   }
  },
  {
   "cell_type": "code",
   "execution_count": 10,
   "outputs": [],
   "source": [
    "# Tower of Hanoi solution\n",
    "# https://en.wikipedia.org/wiki/Tower_of_Hanoi#Recursive_solution\n",
    "def move(source, target, spare, n):\n",
    "    if n > 0:\n",
    "        move(source, spare, target, n-1)\n",
    "        target.append(source.pop())\n",
    "        move(spare, target, source, n-1)"
   ],
   "metadata": {
    "collapsed": false,
    "pycharm": {
     "name": "#%%\n"
    }
   }
  },
  {
   "cell_type": "code",
   "execution_count": 15,
   "outputs": [
    {
     "name": "stdout",
     "output_type": "stream",
     "text": [
      "[5, 4, 3, 2, 1]\n",
      "[]\n",
      "[]\n",
      "\n",
      "[]\n",
      "[5, 4, 3, 2, 1]\n",
      "[]\n",
      "\n"
     ]
    }
   ],
   "source": [
    "n = 5\n",
    "A = list(reversed([i for i in range(1, n + 1)]))\n",
    "B = []\n",
    "C = []\n",
    "\n",
    "def print_towers():\n",
    "    print(A)\n",
    "    print(B)\n",
    "    print(C)\n",
    "    print()\n",
    "\n",
    "print_towers()\n",
    "move(source=A, target=B, spare=C, n=5)\n",
    "print_towers()"
   ],
   "metadata": {
    "collapsed": false,
    "pycharm": {
     "name": "#%%\n"
    }
   }
  },
  {
   "cell_type": "markdown",
   "source": [
    "Try M-x hanoi in Emacs!"
   ],
   "metadata": {
    "collapsed": false,
    "pycharm": {
     "name": "#%% md\n"
    }
   }
  }
 ],
 "metadata": {
  "kernelspec": {
   "display_name": "Python 3",
   "language": "python",
   "name": "python3"
  },
  "language_info": {
   "codemirror_mode": {
    "name": "ipython",
    "version": 2
   },
   "file_extension": ".py",
   "mimetype": "text/x-python",
   "name": "python",
   "nbconvert_exporter": "python",
   "pygments_lexer": "ipython2",
   "version": "2.7.6"
  }
 },
 "nbformat": 4,
 "nbformat_minor": 0
}