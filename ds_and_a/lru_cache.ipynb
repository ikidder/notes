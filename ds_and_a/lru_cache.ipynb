{
 "cells": [
  {
   "cell_type": "raw",
   "source": [
    "# Least Recently Used Cache (LRU Cache)\n",
    "* Fixed-size cache that evicts the least recently used element.\n",
    "* Good where recent calls predict future calls. E.g. trending page views\n",
    "\n",
    "## Implementation\n",
    "Get O(1) reads and writes by implementing an LRU with a dict and a doubly linked list.\n",
    "The doubly linked list maintains the order of recent calls. The dict keeps pointers to the elements of the list.\n",
    "See illustration: https://realpython.com/lru-cache-python/#peeking-behind-the-scenes-of-the-lru-cache\n",
    "\n",
    "reading from an LRU cache:\n",
    "if key in dict, dict[key] points to a node in the list. move that node to the head of the list, and return the value.\n",
    "\n",
    "writing to an LRU cache:\n",
    "add new node at head of list. set dict[key] to point to that node. if len(list) > cache_size: remove tail of list and del(key) in the dict"
   ],
   "metadata": {
    "collapsed": false,
    "pycharm": {
     "name": ""
    }
   }
  }
 ],
 "metadata": {
  "kernelspec": {
   "display_name": "Python 3",
   "language": "python",
   "name": "python3"
  },
  "language_info": {
   "codemirror_mode": {
    "name": "ipython",
    "version": 2
   },
   "file_extension": ".py",
   "mimetype": "text/x-python",
   "name": "python",
   "nbconvert_exporter": "python",
   "pygments_lexer": "ipython2",
   "version": "2.7.6"
  }
 },
 "nbformat": 4,
 "nbformat_minor": 0
}