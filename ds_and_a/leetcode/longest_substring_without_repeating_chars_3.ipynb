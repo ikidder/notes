{
 "cells": [
  {
   "cell_type": "markdown",
   "source": [
    "# Longest Substring Without Repeating Characters\n",
    "Given a string s, find the length of the longest substring without repeating characters.\n",
    "\n",
    "Input: s = \"abcabcbb\"\n",
    "Output: 3\n",
    "\n",
    "Input: s = \"bbbbb\"\n",
    "Output: 1\n",
    "\n",
    "Input: s = \"pwwkew\"\n",
    "Output: 3"
   ],
   "metadata": {
    "collapsed": false,
    "pycharm": {
     "name": "#%% md\n"
    }
   }
  },
  {
   "cell_type": "code",
   "execution_count": 1,
   "outputs": [
    {
     "data": {
      "text/plain": "2"
     },
     "execution_count": 1,
     "metadata": {},
     "output_type": "execute_result"
    }
   ],
   "source": [
    "# brute force solution\n",
    "\n",
    "def length_of_longest_substring(s: str) -> int:\n",
    "    seen = set()\n",
    "    max_length = 0\n",
    "    curr_length = 0\n",
    "    for i in range(len(s)):\n",
    "        for j in range(i, len(s)):\n",
    "            if s[j] in seen:\n",
    "                max_length = max(curr_length, max_length)\n",
    "                seen = set()\n",
    "                curr_length = 0\n",
    "                break\n",
    "            else:\n",
    "                seen.add(s[j])\n",
    "                curr_length += 1\n",
    "    return max(curr_length, max_length)"
   ],
   "metadata": {
    "collapsed": false,
    "pycharm": {
     "name": "#%%\n"
    }
   }
  },
  {
   "cell_type": "code",
   "execution_count": 2,
   "outputs": [],
   "source": [
    "# sliding window solution\n",
    "\n",
    "import collections\n",
    "def length_of_longest_substring(s: str) -> int:\n",
    "    chars = collections.Counter()\n",
    "\n",
    "    left = right = 0\n",
    "\n",
    "    result = 0\n",
    "    # slide right side of window forward\n",
    "    while right < len(s):\n",
    "        r = s[right]\n",
    "        chars[r] += 1\n",
    "\n",
    "        # when we detect duplicate chars in\n",
    "        # the substring, more the left side\n",
    "        # of the window until we don't\n",
    "        while chars[r] > 1:\n",
    "            l = s[left]\n",
    "            chars[l] -= 1\n",
    "            left += 1\n",
    "\n",
    "        result = max(result, right - left + 1)\n",
    "\n",
    "        right += 1\n",
    "    return result"
   ],
   "metadata": {
    "collapsed": false,
    "pycharm": {
     "name": "#%%\n"
    }
   }
  },
  {
   "cell_type": "code",
   "execution_count": null,
   "outputs": [],
   "source": [],
   "metadata": {
    "collapsed": false,
    "pycharm": {
     "name": "#%%\n"
    }
   }
  }
 ],
 "metadata": {
  "kernelspec": {
   "display_name": "Python 3",
   "language": "python",
   "name": "python3"
  },
  "language_info": {
   "codemirror_mode": {
    "name": "ipython",
    "version": 2
   },
   "file_extension": ".py",
   "mimetype": "text/x-python",
   "name": "python",
   "nbconvert_exporter": "python",
   "pygments_lexer": "ipython2",
   "version": "2.7.6"
  }
 },
 "nbformat": 4,
 "nbformat_minor": 0
}