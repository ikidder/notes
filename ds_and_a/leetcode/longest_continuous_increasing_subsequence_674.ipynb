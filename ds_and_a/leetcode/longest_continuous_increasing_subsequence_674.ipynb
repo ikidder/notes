{
 "cells": [
  {
   "cell_type": "markdown",
   "source": [
    "# Longest Continuous Increasing Subsequence\n",
    "\n",
    "Given an unsorted array of integers nums, return the length of the longest continuous increasing subsequence (i.e. subarray). The subsequence must be strictly increasing.\n",
    "\n",
    "A continuous increasing subsequence is defined by two indices l and r (l < r) such that it is [nums[l], nums[l + 1], ..., nums[r - 1], nums[r]] and for each l <= i < r, nums[i] < nums[i + 1].\n",
    "\n",
    "Input: nums = [1,3,5,4,7]\n",
    "Output: 3\n",
    "\n",
    "Input: nums = [2,2,2,2,2]\n",
    "Output: 1"
   ],
   "metadata": {
    "collapsed": false,
    "pycharm": {
     "name": "#%% md\n"
    }
   }
  },
  {
   "cell_type": "code",
   "execution_count": 1,
   "outputs": [],
   "source": [
    "# my solution\n",
    "def findLengthOfLCIS(nums):\n",
    "    left = 0\n",
    "    longest = 1\n",
    "    for i in range(len(nums)):\n",
    "        if not nums[i-1] < nums[i]:\n",
    "            longest = max(longest, i - left)\n",
    "            left = i\n",
    "    longest = max(longest, len(nums) - left)\n",
    "    return longest"
   ],
   "metadata": {
    "collapsed": false,
    "pycharm": {
     "name": "#%%\n"
    }
   }
  },
  {
   "cell_type": "code",
   "execution_count": null,
   "outputs": [],
   "source": [
    "# their solution\n",
    "def findLengthOfLCIS(nums):\n",
    "    ans = anchor = 0\n",
    "    for i in range(len(nums)):\n",
    "        if i and nums[i-1] >= nums[i]: anchor = i\n",
    "        ans = max(ans, i - anchor + 1)\n",
    "    return ans"
   ],
   "metadata": {
    "collapsed": false,
    "pycharm": {
     "name": "#%%\n"
    }
   }
  }
 ],
 "metadata": {
  "kernelspec": {
   "display_name": "Python 3",
   "language": "python",
   "name": "python3"
  },
  "language_info": {
   "codemirror_mode": {
    "name": "ipython",
    "version": 2
   },
   "file_extension": ".py",
   "mimetype": "text/x-python",
   "name": "python",
   "nbconvert_exporter": "python",
   "pygments_lexer": "ipython2",
   "version": "2.7.6"
  }
 },
 "nbformat": 4,
 "nbformat_minor": 0
}