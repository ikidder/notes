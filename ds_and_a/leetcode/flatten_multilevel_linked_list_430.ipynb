{
 "cells": [
  {
   "cell_type": "markdown",
   "metadata": {
    "collapsed": true,
    "pycharm": {
     "name": "#%% md\n"
    }
   },
   "source": [
    "# 430. Flatten a Multilevel Doubly Linked List\n",
    "You are given a doubly linked list, which contains nodes that have a next pointer, a previous pointer, and an additional child pointer. This child pointer may or may not point to a separate doubly linked list, also containing these special nodes. These child lists may have one or more children of their own, and so on, to produce a multilevel data structure as shown in the example below.\n",
    "\n",
    "Given the head of the first level of the list, flatten the list so that all the nodes appear in a single-level, doubly linked list. Let curr be a node with a child list. The nodes in the child list should appear after curr and before curr.next in the flattened list.\n",
    "\n",
    "Return the head of the flattened list. The nodes in the list must have all of their child pointers set to null."
   ]
  },
  {
   "cell_type": "code",
   "execution_count": 1,
   "outputs": [],
   "source": [
    "from typing import Optional\n",
    "class Node:\n",
    "    def __init__(self, val, prev, next, child):\n",
    "        self.val = val\n",
    "        self.prev = prev\n",
    "        self.next = next\n",
    "        self.child = child\n",
    "\n",
    "def flatten(head: 'Optional[Node]') -> 'Optional[Node]':\n",
    "    def flatten_dfs(prev, curr):\n",
    "        \"\"\"Takes two nodes as input. Returns the tail of the flattened list.\"\"\"\n",
    "        if not curr:\n",
    "            return prev\n",
    "\n",
    "        prev.next = curr\n",
    "        curr.prev = prev\n",
    "\n",
    "        old_next = curr.next\n",
    "        tail = flatten_dfs(curr, curr.child) # left tail\n",
    "        curr.child = None\n",
    "        return flatten_dfs(tail, old_next) # right tail\n",
    "\n",
    "    if not head:\n",
    "        return head\n",
    "    pseudo_head = Node(None, None, head, None)\n",
    "    flatten_dfs(pseudo_head, head)\n",
    "    pseudo_head.next.prev = None\n",
    "    return pseudo_head.next"
   ],
   "metadata": {
    "collapsed": false,
    "pycharm": {
     "name": "#%%\n"
    }
   }
  },
  {
   "cell_type": "code",
   "execution_count": null,
   "outputs": [],
   "source": [],
   "metadata": {
    "collapsed": false,
    "pycharm": {
     "name": "#%%\n"
    }
   }
  }
 ],
 "metadata": {
  "kernelspec": {
   "display_name": "Python 3",
   "language": "python",
   "name": "python3"
  },
  "language_info": {
   "codemirror_mode": {
    "name": "ipython",
    "version": 2
   },
   "file_extension": ".py",
   "mimetype": "text/x-python",
   "name": "python",
   "nbconvert_exporter": "python",
   "pygments_lexer": "ipython2",
   "version": "2.7.6"
  }
 },
 "nbformat": 4,
 "nbformat_minor": 0
}