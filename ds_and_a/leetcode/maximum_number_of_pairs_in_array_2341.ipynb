{
 "cells": [
  {
   "cell_type": "markdown",
   "source": [
    "You are given a 0-indexed integer array nums. In one operation, you may do the following:\n",
    "\n",
    "Choose two integers in nums that are equal.\n",
    "Remove both integers from nums, forming a pair.\n",
    "The operation is done on nums as many times as possible.\n",
    "\n",
    "Return a 0-indexed integer array answer of size 2 where answer[0] is the number of pairs that are formed and answer[1] is the number of leftover integers in nums after doing the operation as many times as possible.\n",
    "\n",
    "Input: nums = [1,3,2,1,3,2,2]\n",
    "Output: [3,1]\n",
    "\n",
    "Input: nums = [1,1]\n",
    "Output: [1,0]"
   ],
   "metadata": {
    "collapsed": false,
    "pycharm": {
     "name": "#%% md\n"
    }
   }
  },
  {
   "cell_type": "code",
   "execution_count": null,
   "outputs": [],
   "source": [
    "class Solution:\n",
    "    def numberOfPairs(self, nums: List[int]) -> List[int]:\n",
    "        seen = set()\n",
    "        pairs = 0\n",
    "        for num in nums:\n",
    "            if num in seen:\n",
    "                seen.remove(num)\n",
    "                pairs += 1\n",
    "            else:\n",
    "                seen.add(num)\n",
    "        return [pairs, len(seen)]"
   ],
   "metadata": {
    "collapsed": false,
    "pycharm": {
     "name": "#%%\n"
    }
   }
  }
 ],
 "metadata": {
  "kernelspec": {
   "display_name": "Python 3",
   "language": "python",
   "name": "python3"
  },
  "language_info": {
   "codemirror_mode": {
    "name": "ipython",
    "version": 2
   },
   "file_extension": ".py",
   "mimetype": "text/x-python",
   "name": "python",
   "nbconvert_exporter": "python",
   "pygments_lexer": "ipython2",
   "version": "2.7.6"
  }
 },
 "nbformat": 4,
 "nbformat_minor": 0
}