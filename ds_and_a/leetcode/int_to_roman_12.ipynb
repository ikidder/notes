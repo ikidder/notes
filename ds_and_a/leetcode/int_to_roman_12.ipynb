{
 "cells": [
  {
   "cell_type": "code",
   "execution_count": 36,
   "outputs": [],
   "source": [
    "def int_to_roman(num: int) -> str:\n",
    "    romans = {\n",
    "        1000: 'M',\n",
    "        900: 'CM',\n",
    "        500: 'D',\n",
    "        400: 'CD',\n",
    "        100: 'C',\n",
    "        90: 'XC',\n",
    "        50: 'L',\n",
    "        40: 'XL',\n",
    "        10: 'X',\n",
    "        9: 'IX',\n",
    "        5: 'V',\n",
    "        4: 'IV',\n",
    "        1: 'I'\n",
    "    }\n",
    "\n",
    "    result = ''\n",
    "    for val, c in romans.items():\n",
    "        while val <= num:\n",
    "            result += c\n",
    "            num -= val\n",
    "\n",
    "    return result"
   ],
   "metadata": {
    "collapsed": false,
    "pycharm": {
     "name": "#%%\n"
    }
   }
  },
  {
   "cell_type": "code",
   "execution_count": 37,
   "outputs": [
    {
     "name": "stdout",
     "output_type": "stream",
     "text": [
      "1  ->  I\n",
      "5  ->  V\n",
      "1666  ->  MDCLXVI\n",
      "4  ->  IV\n",
      "40  ->  XL\n",
      "90  ->  XC\n",
      "400  ->  CD\n",
      "900  ->  CM\n",
      "1994  ->  MCMXCIV\n"
     ]
    }
   ],
   "source": [
    "data = [\n",
    "    ('I', 1),\n",
    "    ('V', 5),\n",
    "    ('MDCLXVI', 1666),\n",
    "    ('IV', 4),\n",
    "    ('XL', 40),\n",
    "    ('XC', 90),\n",
    "    ('CD', 400),\n",
    "    ('CM', 900),\n",
    "    ('MCMXCIV', 1994)\n",
    "]\n",
    "\n",
    "for expected, input in data:\n",
    "    print(input, ' -> ', expected)\n",
    "    assert int_to_roman(input) == expected, f\"{input} -> {int_to_roman(input)} != {expected}\""
   ],
   "metadata": {
    "collapsed": false,
    "pycharm": {
     "name": "#%%\n"
    }
   }
  },
  {
   "cell_type": "code",
   "execution_count": 38,
   "outputs": [
    {
     "name": "stdout",
     "output_type": "stream",
     "text": [
      "Help on built-in function divmod in module builtins:\n",
      "\n",
      "divmod(x, y, /)\n",
      "    Return the tuple (x//y, x%y).  Invariant: div*y + mod == x.\n",
      "\n"
     ]
    }
   ],
   "source": [
    "# leetcode premium solution\n",
    "# uses `divmod` instead of subtraction\n",
    "def intToRoman(self, num: int) -> str:\n",
    "    romans = [\n",
    "        (1000, \"M\"),\n",
    "        (900, \"CM\"),\n",
    "        (500, \"D\"),\n",
    "        (400, \"CD\"),\n",
    "        (100, \"C\"),\n",
    "        (90, \"XC\"),\n",
    "        (50, \"L\"),\n",
    "        (40, \"XL\"),\n",
    "        (10, \"X\"),\n",
    "        (9, \"IX\"),\n",
    "        (5, \"V\"),\n",
    "        (4, \"IV\"),\n",
    "        (1, \"I\")\n",
    "    ]\n",
    "\n",
    "    result = []\n",
    "    for val, c in romans:\n",
    "        if num == 0: break\n",
    "        count, num = divmod(num, val)\n",
    "        # Append \"count\" copies of \"symbol\" to roman_digits.\n",
    "        result.append(c * count)\n",
    "    return \"\".join(result)"
   ],
   "metadata": {
    "collapsed": false,
    "pycharm": {
     "name": "#%%\n"
    }
   }
  },
  {
   "cell_type": "code",
   "execution_count": 41,
   "outputs": [],
   "source": [],
   "metadata": {
    "collapsed": false,
    "pycharm": {
     "name": "#%%\n"
    }
   }
  },
  {
   "cell_type": "code",
   "execution_count": null,
   "outputs": [],
   "source": [],
   "metadata": {
    "collapsed": false,
    "pycharm": {
     "name": "#%%\n"
    }
   }
  }
 ],
 "metadata": {
  "kernelspec": {
   "display_name": "Python 3",
   "language": "python",
   "name": "python3"
  },
  "language_info": {
   "codemirror_mode": {
    "name": "ipython",
    "version": 2
   },
   "file_extension": ".py",
   "mimetype": "text/x-python",
   "name": "python",
   "nbconvert_exporter": "python",
   "pygments_lexer": "ipython2",
   "version": "2.7.6"
  }
 },
 "nbformat": 4,
 "nbformat_minor": 0
}