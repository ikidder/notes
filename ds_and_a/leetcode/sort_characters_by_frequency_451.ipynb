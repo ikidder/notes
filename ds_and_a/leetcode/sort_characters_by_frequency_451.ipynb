{
 "cells": [
  {
   "cell_type": "markdown",
   "source": [
    "Given a string s, sort it in decreasing order based on the frequency of the characters. The frequency of a character is the number of times it appears in the string.\n",
    "\n",
    "Return the sorted string. If there are multiple answers, return any of them."
   ],
   "metadata": {
    "collapsed": false,
    "pycharm": {
     "name": "#%% md\n"
    }
   }
  },
  {
   "cell_type": "code",
   "execution_count": null,
   "outputs": [],
   "source": [],
   "metadata": {
    "collapsed": false,
    "pycharm": {
     "name": "#%%\n"
    }
   }
  },
  {
   "cell_type": "code",
   "execution_count": null,
   "outputs": [],
   "source": [
    "import collections\n",
    "\n",
    "class Solution:\n",
    "    def frequencySort(self, s: str) -> str:\n",
    "        counts = collections.Counter(s)\n",
    "        sorted_chars = sorted(counts, key=lambda k: counts[k], reverse=True)\n",
    "        return ''.join(ch * counts[ch] for ch in sorted_chars)\n"
   ],
   "metadata": {
    "collapsed": false,
    "pycharm": {
     "name": "#%%\n"
    }
   }
  }
 ],
 "metadata": {
  "kernelspec": {
   "display_name": "Python 3",
   "language": "python",
   "name": "python3"
  },
  "language_info": {
   "codemirror_mode": {
    "name": "ipython",
    "version": 2
   },
   "file_extension": ".py",
   "mimetype": "text/x-python",
   "name": "python",
   "nbconvert_exporter": "python",
   "pygments_lexer": "ipython2",
   "version": "2.7.6"
  }
 },
 "nbformat": 4,
 "nbformat_minor": 0
}