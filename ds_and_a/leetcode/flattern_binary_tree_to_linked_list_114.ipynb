{
 "cells": [
  {
   "cell_type": "markdown",
   "metadata": {
    "collapsed": true,
    "pycharm": {
     "name": "#%% md\n"
    }
   },
   "source": [
    "# Flatten Binary Tree to Linked List\n",
    "* The \"linked list\" should use the same TreeNode class where the right child pointer points to the next node in the list and the left child pointer is always null.\n",
    "* The \"linked list\" should be in the same order as a pre-order traversal of the binary tree."
   ]
  },
  {
   "cell_type": "code",
   "execution_count": null,
   "outputs": [],
   "source": [
    "    def flatten(self, root: Optional[TreeNode]) -> None:\n",
    "        \"\"\"\n",
    "        Do not return anything, modify root in-place instead.\n",
    "        \"\"\"\n",
    "        def flat(root: Optional[TreeNode]) -> Optional[TreeNode]:\n",
    "            if not root:\n",
    "                return root\n",
    "            if not root.left and not root.right:\n",
    "                return root\n",
    "            left_tail = flat(root.left)\n",
    "            right_tail = flat(root.right)\n",
    "            if left_tail:\n",
    "                left_tail.right = root.right\n",
    "                root.right = root.left\n",
    "                root.left = None\n",
    "            return right_tail or left_tail\n",
    "\n",
    "        flat(root)"
   ],
   "metadata": {
    "collapsed": false,
    "pycharm": {
     "name": "#%%\n"
    }
   }
  }
 ],
 "metadata": {
  "kernelspec": {
   "display_name": "Python 3",
   "language": "python",
   "name": "python3"
  },
  "language_info": {
   "codemirror_mode": {
    "name": "ipython",
    "version": 2
   },
   "file_extension": ".py",
   "mimetype": "text/x-python",
   "name": "python",
   "nbconvert_exporter": "python",
   "pygments_lexer": "ipython2",
   "version": "2.7.6"
  }
 },
 "nbformat": 4,
 "nbformat_minor": 0
}