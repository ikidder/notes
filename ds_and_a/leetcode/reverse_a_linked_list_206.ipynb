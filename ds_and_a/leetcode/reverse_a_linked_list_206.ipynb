{
 "cells": [
  {
   "cell_type": "markdown",
   "source": [
    "# Reverse Linked List\n",
    "\n",
    "Given the head of a singly linked list, reverse the list, and return the reversed list.\n",
    "\n",
    "Input: head = [1,2,3,4,5]\n",
    "Output: [5,4,3,2,1]"
   ],
   "metadata": {
    "collapsed": false,
    "pycharm": {
     "name": "#%% md\n"
    }
   }
  },
  {
   "cell_type": "code",
   "execution_count": 1,
   "outputs": [
    {
     "ename": "NameError",
     "evalue": "name 'Optional' is not defined",
     "output_type": "error",
     "traceback": [
      "\u001B[0;31m---------------------------------------------------------------------------\u001B[0m",
      "\u001B[0;31mNameError\u001B[0m                                 Traceback (most recent call last)",
      "Input \u001B[0;32mIn [1]\u001B[0m, in \u001B[0;36m<cell line: 2>\u001B[0;34m()\u001B[0m\n\u001B[1;32m      1\u001B[0m \u001B[38;5;66;03m# iterative solutions\u001B[39;00m\n\u001B[0;32m----> 2\u001B[0m \u001B[38;5;28;01mdef\u001B[39;00m \u001B[38;5;21mreverse_list\u001B[39m(head: \u001B[43mOptional\u001B[49m[ListNode]) \u001B[38;5;241m-\u001B[39m\u001B[38;5;241m>\u001B[39m Optional[ListNode]:\n\u001B[1;32m      3\u001B[0m     prev \u001B[38;5;241m=\u001B[39m \u001B[38;5;28;01mNone\u001B[39;00m\n\u001B[1;32m      4\u001B[0m     curr \u001B[38;5;241m=\u001B[39m head\n",
      "\u001B[0;31mNameError\u001B[0m: name 'Optional' is not defined"
     ]
    }
   ],
   "source": [
    "# iterative solutions\n",
    "def reverse_list(head: Optional[ListNode]) -> Optional[ListNode]:\n",
    "    prev = None\n",
    "    curr = head\n",
    "    while curr:\n",
    "        temp = curr.next\n",
    "        curr.next = prev\n",
    "        prev = curr\n",
    "        curr = temp\n",
    "    return prev"
   ],
   "metadata": {
    "collapsed": false,
    "pycharm": {
     "name": "#%%\n"
    }
   }
  },
  {
   "cell_type": "code",
   "execution_count": null,
   "outputs": [],
   "source": [
    "# recursive solution\n",
    "def reverse_list(head: Optional[ListNode]) -> Optional[ListNode]:\n",
    "    def reverse_list(prev, head, nxt):\n",
    "        head.next = prev\n",
    "        if not nxt:\n",
    "            return head\n",
    "        else:\n",
    "            return reverse_list(head, nxt, nxt.next)\n",
    "    if not head:\n",
    "        return head\n",
    "    return reverse_list(None, head, head.next)"
   ],
   "metadata": {
    "collapsed": false,
    "pycharm": {
     "name": "#%%\n"
    }
   }
  }
 ],
 "metadata": {
  "kernelspec": {
   "display_name": "Python 3",
   "language": "python",
   "name": "python3"
  },
  "language_info": {
   "codemirror_mode": {
    "name": "ipython",
    "version": 2
   },
   "file_extension": ".py",
   "mimetype": "text/x-python",
   "name": "python",
   "nbconvert_exporter": "python",
   "pygments_lexer": "ipython2",
   "version": "2.7.6"
  }
 },
 "nbformat": 4,
 "nbformat_minor": 0
}