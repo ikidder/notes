{
 "cells": [
  {
   "cell_type": "code",
   "execution_count": 6,
   "outputs": [],
   "source": [
    "def roman_to_int(s: str) -> int:\n",
    "    roman = {\n",
    "        'I': 1,\n",
    "        'V': 5,\n",
    "        'X': 10,\n",
    "        'L': 50,\n",
    "        'C': 100,\n",
    "        'D': 500,\n",
    "        'M': 1000\n",
    "    }\n",
    "\n",
    "    result = 0\n",
    "    for i in range(len(s)):\n",
    "        match s[i]:\n",
    "            case 'I':\n",
    "                if i < len(s) -1 and s[i + 1] in ['V', 'X']:\n",
    "                    result = result - roman['I']\n",
    "                else:\n",
    "                    result = result + roman['I']\n",
    "            case 'X':\n",
    "                if i < len(s) -1 and s[i + 1] in ['L', 'C']:\n",
    "                    result = result - roman['X']\n",
    "                else:\n",
    "                    result = result + roman['X']\n",
    "            case 'C':\n",
    "                if i < len(s) -1 and s[i + 1] in ['D', 'M']:\n",
    "                    result = result - roman['C']\n",
    "                else:\n",
    "                    result = result + roman['C']\n",
    "            case c:\n",
    "                result = result + roman[c]\n",
    "\n",
    "    return result"
   ],
   "metadata": {
    "collapsed": false,
    "pycharm": {
     "name": "#%%\n"
    }
   }
  },
  {
   "cell_type": "code",
   "execution_count": 7,
   "outputs": [
    {
     "name": "stdout",
     "output_type": "stream",
     "text": [
      "I  ->  1\n",
      "V  ->  5\n",
      "MDCLXVI  ->  1666\n",
      "IV  ->  4\n",
      "XL  ->  40\n",
      "XC  ->  90\n",
      "CD  ->  400\n",
      "CM  ->  900\n",
      "MCMXCIV  ->  1994\n"
     ]
    }
   ],
   "source": [
    "data = [\n",
    "    ('I', 1),\n",
    "    ('V', 5),\n",
    "    ('MDCLXVI', 1666),\n",
    "    ('IV', 4),\n",
    "    ('XL', 40),\n",
    "    ('XC', 90),\n",
    "    ('CD', 400),\n",
    "    ('CM', 900),\n",
    "    ('MCMXCIV', 1994)\n",
    "]\n",
    "\n",
    "for input, expected in data:\n",
    "    print(input, ' -> ', expected)\n",
    "    assert roman_to_int(input) == expected, f\"{input} -> {roman_to_int(input)} != {expected}\""
   ],
   "metadata": {
    "collapsed": false,
    "pycharm": {
     "name": "#%%\n"
    }
   }
  },
  {
   "cell_type": "code",
   "execution_count": null,
   "outputs": [],
   "source": [
    "# solution from: https://github.com/zhouchong90/LeetCode-Python-Solution/blob/master/Solutions/13%20Roman%20to%20Integer.py\n",
    "class Solution:\n",
    "    # @param {string} s\n",
    "    # @return {integer}\n",
    "    def romanToInt(self, s):\n",
    "        roman = {'M': 1000,'D': 500 ,'C': 100,'L': 50,'X': 10,'V': 5,'I': 1}\n",
    "\n",
    "        result = 0\n",
    "        for i in range(len(s)-1):\n",
    "            if roman[s[i]]<roman[s[i+1]]:\n",
    "                result-=roman[s[i]]\n",
    "            else:\n",
    "                result+=roman[s[i]]\n",
    "        else:\n",
    "            result+=roman[s[-1]]\n",
    "\n",
    "        return result"
   ],
   "metadata": {
    "collapsed": false,
    "pycharm": {
     "name": "#%%\n"
    }
   }
  }
 ],
 "metadata": {
  "kernelspec": {
   "display_name": "Python 3",
   "language": "python",
   "name": "python3"
  },
  "language_info": {
   "codemirror_mode": {
    "name": "ipython",
    "version": 2
   },
   "file_extension": ".py",
   "mimetype": "text/x-python",
   "name": "python",
   "nbconvert_exporter": "python",
   "pygments_lexer": "ipython2",
   "version": "2.7.6"
  }
 },
 "nbformat": 4,
 "nbformat_minor": 0
}