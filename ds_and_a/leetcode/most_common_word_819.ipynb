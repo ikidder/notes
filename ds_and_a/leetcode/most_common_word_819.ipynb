{
 "cells": [
  {
   "cell_type": "markdown",
   "source": [
    "# Most Common Word\n",
    "Given a string paragraph and a string array of the banned words banned, return the most frequent word that is not banned. It is guaranteed there is at least one word that is not banned, and that the answer is unique.\n",
    "\n",
    "The words in paragraph are case-insensitive and the answer should be returned in lowercase.\n",
    "\n",
    "Input: paragraph = \"Bob hit a ball, the hit BALL flew far after it was hit.\", banned = [\"hit\"]\n",
    "Output: \"ball\"\n",
    "\n",
    "Input: paragraph = \"a.\", banned = []\n",
    "Output: \"a\"\n",
    "\n",
    "\n",
    "Input: \"a, a, a, a, b,b,b,c, c\"\n",
    "Output: \"a\""
   ],
   "metadata": {
    "collapsed": false,
    "pycharm": {
     "name": "#%% md\n"
    }
   }
  },
  {
   "cell_type": "code",
   "execution_count": 6,
   "outputs": [],
   "source": [
    "import collections\n",
    "def most_common_word(paragraph, banned):\n",
    "    words = []\n",
    "    curr = []\n",
    "    for c in paragraph:\n",
    "        if c.isalpha():\n",
    "            curr.append(c.lower())\n",
    "        else:\n",
    "            if curr:\n",
    "                words.append(''.join(curr))\n",
    "                curr = []\n",
    "    if curr:\n",
    "        words.append(''.join(curr))\n",
    "    counts = collections.Counter(words)\n",
    "    sorted_counts = sorted(counts.items(), key=lambda pair: pair[1], reverse=True)\n",
    "    return next(pair[0] for pair in sorted_counts if pair[0] not in banned)"
   ],
   "metadata": {
    "collapsed": false,
    "pycharm": {
     "name": "#%%\n"
    }
   }
  },
  {
   "cell_type": "code",
   "execution_count": 7,
   "outputs": [
    {
     "data": {
      "text/plain": "'ball'"
     },
     "execution_count": 7,
     "metadata": {},
     "output_type": "execute_result"
    }
   ],
   "source": [
    "paragraph = \"Bob hit a ball, the hit BALL flew far after it was hit.\"\n",
    "banned = [\"hit\"]\n",
    "most_common_word(paragraph, banned)"
   ],
   "metadata": {
    "collapsed": false,
    "pycharm": {
     "name": "#%%\n"
    }
   }
  },
  {
   "cell_type": "code",
   "execution_count": null,
   "outputs": [],
   "source": [],
   "metadata": {
    "collapsed": false,
    "pycharm": {
     "name": "#%%\n"
    }
   }
  }
 ],
 "metadata": {
  "kernelspec": {
   "display_name": "Python 3",
   "language": "python",
   "name": "python3"
  },
  "language_info": {
   "codemirror_mode": {
    "name": "ipython",
    "version": 2
   },
   "file_extension": ".py",
   "mimetype": "text/x-python",
   "name": "python",
   "nbconvert_exporter": "python",
   "pygments_lexer": "ipython2",
   "version": "2.7.6"
  }
 },
 "nbformat": 4,
 "nbformat_minor": 0
}