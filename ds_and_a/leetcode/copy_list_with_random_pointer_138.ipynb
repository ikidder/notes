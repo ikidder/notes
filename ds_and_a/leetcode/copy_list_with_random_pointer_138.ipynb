{
 "cells": [
  {
   "cell_type": "markdown",
   "source": [
    "# Copy List with Random Pointer\n",
    "\n",
    "A linked list of length n is given such that each node contains an additional random pointer, which could point to any node in the list, or null.\n",
    "\n",
    "Construct a deep copy of the list. The deep copy should consist of exactly n brand new nodes, where each new node has its value set to the value of its corresponding original node. Both the next and random pointer of the new nodes should point to new nodes in the copied list such that the pointers in the original list and copied list represent the same list state. None of the pointers in the new list should point to nodes in the original list.\n",
    "\n",
    "For example, if there are two nodes X and Y in the original list, where X.random --> Y, then for the corresponding two nodes x and y in the copied list, x.random --> y.\n",
    "\n",
    "Return the head of the copied linked list.\n",
    "\n",
    "The linked list is represented in the input/output as a list of n nodes. Each node is represented as a pair of [val, random_index] where:\n",
    "\n",
    "val: an integer representing Node.val\n",
    "random_index: the index of the node (range from 0 to n-1) that the random pointer points to, or null if it does not point to any node.\n",
    "Your code will only be given the head of the original linked list.\n",
    "\n",
    "Input: head = [[7,null],[13,0],[11,4],[10,2],[1,0]]\n",
    "Output: [[7,null],[13,0],[11,4],[10,2],[1,0]]"
   ],
   "metadata": {
    "collapsed": false,
    "pycharm": {
     "name": "#%% md\n"
    }
   }
  },
  {
   "cell_type": "code",
   "execution_count": 2,
   "outputs": [],
   "source": [
    "class Node:\n",
    "    def __init__(self, x: int, next: 'Node' = None, random: 'Node' = None):\n",
    "        self.val = int(x)\n",
    "        self.next = next\n",
    "        self.random = random\n",
    "\n",
    "class Solution:\n",
    "    def copyRandomList(self, head: 'Optional[Node]') -> 'Optional[Node]':\n",
    "        def deep_copy(head, visited):\n",
    "            if not head:\n",
    "                return None\n",
    "            new_head = Node(head.val)\n",
    "            visited[head] = new_head\n",
    "            new_head.next = visited.get(head.next, None) or deep_copy(head.next, visited)\n",
    "            new_head.random = visited.get(head.random, None) or deep_copy(head.random, visited)\n",
    "            return new_head\n",
    "\n",
    "        visited = {}  # old_node -> new_node mapping\n",
    "        return deep_copy(head, visited)"
   ],
   "metadata": {
    "collapsed": false,
    "pycharm": {
     "name": "#%%\n"
    }
   }
  },
  {
   "cell_type": "code",
   "execution_count": null,
   "outputs": [],
   "source": [],
   "metadata": {
    "collapsed": false,
    "pycharm": {
     "name": "#%%\n"
    }
   }
  }
 ],
 "metadata": {
  "kernelspec": {
   "display_name": "Python 3",
   "language": "python",
   "name": "python3"
  },
  "language_info": {
   "codemirror_mode": {
    "name": "ipython",
    "version": 2
   },
   "file_extension": ".py",
   "mimetype": "text/x-python",
   "name": "python",
   "nbconvert_exporter": "python",
   "pygments_lexer": "ipython2",
   "version": "2.7.6"
  }
 },
 "nbformat": 4,
 "nbformat_minor": 0
}