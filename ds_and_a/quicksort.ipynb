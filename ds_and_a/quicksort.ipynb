{
 "cells": [
  {
   "cell_type": "markdown",
   "metadata": {
    "collapsed": true,
    "pycharm": {
     "name": "#%% md\n"
    }
   },
   "source": [
    "# quicksort\n",
    "\n",
    "divide and conquer\n",
    "\n",
    "In merge sort, all the work happens in the combine step. Quicksort is the opposite. All the work is in the divide step, and the combine step does nothing.\n",
    "\n",
    "Quicksort runs in place.\n",
    "\n",
    "Analysis\n",
    "* Worst case: 𝛳(n²)\n",
    "* Average case: 𝛳(n log₂ n)\n",
    "* Best case: 𝛳(n log₂ n)\n",
    "\n",
    "Reason to choose quicksort:\n",
    "The constant factor hidden in the Big O notation is quite good. In practice, quicksort outperforms merge sort."
   ]
  },
  {
   "cell_type": "markdown",
   "source": [
    "## How quicksort works\n",
    "1. Divide\n",
    "    1. Choose an element in the array. Call this the _pivot_.\n",
    "    2. Rearrange the array so that all the elements that are less than the pivot are to its left, and all the elements greater than are to the right. This is called _partitioning_.\n",
    "        1. In practice, we choose the rightmost element of the array as the partition.\n",
    "2. Conquer\n",
    "    1. recursively sort subarrays using Divide above.\n",
    "    2. base case is len(array) < 2\n",
    "3. Combine\n",
    "    1. Do nothing. Once all subarrays are divided, they are sorted.\n",
    "\n",
    "### For quicksort in constant space, see   https://www.khanacademy.org/computing/computer-science/algorithms/quick-sort/a/linear-time-partitioning"
   ],
   "metadata": {
    "collapsed": false,
    "pycharm": {
     "name": "#%% md\n"
    }
   }
  },
  {
   "cell_type": "code",
   "execution_count": 2,
   "outputs": [],
   "source": [
    "def quicksort(seq):\n",
    "    if len(seq) < 2:\n",
    "        return seq\n",
    "    else:\n",
    "        pivot = seq.pop()\n",
    "        lesser = [x for x in seq if x < pivot]\n",
    "        greater = [x for x in seq if x >= pivot]\n",
    "        return quicksort(lesser) + [pivot] + quicksort(greater)"
   ],
   "metadata": {
    "collapsed": false,
    "pycharm": {
     "name": "#%%\n"
    }
   }
  },
  {
   "cell_type": "code",
   "execution_count": 3,
   "outputs": [
    {
     "name": "stdout",
     "output_type": "stream",
     "text": [
      "[]\n",
      "[]\n",
      "********************\n",
      "[63, 34, 73, 83, 5, 28, 17, 31]\n",
      "[5, 17, 28, 31, 34, 63, 73, 83]\n",
      "********************\n",
      "[64, 94]\n",
      "[64, 94]\n",
      "********************\n",
      "[82, 71, 54, 74, 86, 59, 62, 71, 67, 12, 20, 51, 46, 84, 66, 2, 16, 84]\n",
      "[2, 12, 16, 20, 46, 51, 54, 59, 62, 66, 67, 71, 71, 74, 82, 84, 84, 86]\n",
      "********************\n",
      "[25, 37, 8, 86, 49, 73, 44]\n",
      "[8, 25, 37, 44, 49, 73, 86]\n",
      "********************\n",
      "[23, 71, 65, 75, 7, 100, 57, 91, 33, 59, 88, 17, 41, 59]\n",
      "[7, 17, 23, 33, 41, 57, 59, 59, 65, 71, 75, 88, 91, 100]\n",
      "********************\n",
      "[92, 82, 45, 12, 59, 16, 88, 13, 76, 51, 38, 15]\n",
      "[12, 13, 15, 16, 38, 45, 51, 59, 76, 82, 88, 92]\n",
      "********************\n",
      "[70, 99, 25, 73, 32]\n",
      "[25, 32, 70, 73, 99]\n",
      "********************\n",
      "[91, 60, 24, 16, 56, 82, 19, 81, 71, 21, 40, 2, 46]\n",
      "[2, 16, 19, 21, 24, 40, 46, 56, 60, 71, 81, 82, 91]\n",
      "********************\n",
      "[1, 54, 55, 4, 76, 9, 23, 28, 93, 75, 75, 42, 47, 54, 69, 71, 42]\n",
      "[1, 4, 9, 23, 28, 42, 42, 47, 54, 54, 55, 69, 71, 75, 75, 76, 93]\n",
      "********************\n"
     ]
    }
   ],
   "source": [
    "import random\n",
    "for i in range(10):\n",
    "    l = [random.randint(0,100) for _ in range(random.randint(0,20))]\n",
    "    print(l)\n",
    "    print(quicksort(l))\n",
    "    print('*' * 20)"
   ],
   "metadata": {
    "collapsed": false,
    "pycharm": {
     "name": "#%%\n"
    }
   }
  },
  {
   "cell_type": "code",
   "execution_count": null,
   "outputs": [],
   "source": [],
   "metadata": {
    "collapsed": false,
    "pycharm": {
     "name": "#%%\n"
    }
   }
  }
 ],
 "metadata": {
  "kernelspec": {
   "display_name": "Python 3",
   "language": "python",
   "name": "python3"
  },
  "language_info": {
   "codemirror_mode": {
    "name": "ipython",
    "version": 2
   },
   "file_extension": ".py",
   "mimetype": "text/x-python",
   "name": "python",
   "nbconvert_exporter": "python",
   "pygments_lexer": "ipython2",
   "version": "2.7.6"
  }
 },
 "nbformat": 4,
 "nbformat_minor": 0
}