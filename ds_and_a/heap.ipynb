{
 "cells": [
  {
   "cell_type": "markdown",
   "metadata": {
    "collapsed": true,
    "pycharm": {
     "name": "#%% md\n"
    }
   },
   "source": [
    "# heap\n",
    "https://webdocs.cs.ualberta.ca/~holte/T26/heap-abstype.html\n",
    "\n",
    "A heap is a binary tree with two special properties:\n",
    "* _Ordering Property_\n",
    "    * the value in a node is smaller than all the values in the node's subtrees\n",
    "    * no implied ordering between siblings or cousins and no implied sequence for an in-order traversal. The ordering property is just concerned with parent and child.\n",
    "    * An important consequence of this property is that every path in a heap is a sorted list! Which is key to inserts and deletes.\n",
    "* _Structural Property_\n",
    "    * the tree is a complete tree. In a complete tree, the only nodes that can have an empty subtree are ones in the bottom level, and the rightmost ones in the next-to-bottom level.\n",
    "        * In a complete tree, Height = 𝘖(log n). Heap operations are 𝘖(Height), so by restricting the height we get 𝘖(log n) operations.\n",
    "        * Complete tree have certain advantages over general binary trees (example later TODO)"
   ]
  },
  {
   "cell_type": "markdown",
   "source": [
    "## heap property\n",
    "I like the above definition, because it makes both properties clear. Other references just refer to a _heap property_, by which they mean the ordering property.\n",
    "\n",
    "There are min-heaps and max-heaps. min-heaps are used for priority queues. max-heaps are used for heapsort."
   ],
   "metadata": {
    "collapsed": false,
    "pycharm": {
     "name": "#%% md\n"
    }
   }
  },
  {
   "cell_type": "markdown",
   "source": [
    "## heap implementation with an array\n",
    "\n",
    "Heaps are usually implemented with an array. For a binary heap, in the array, the first index contains the root element. The next two indices of the array contain the root's children. The next four indices contain the four children of the root's two child nodes,\n",
    "\n",
    "Given a node at index _i_:\n",
    "* its children are at _2i + 1_ and _2i + 2_\n",
    "* its parent is at _⌊(i-1)/2⌋_"
   ],
   "metadata": {
    "collapsed": false,
    "pycharm": {
     "name": "#%% md\n"
    }
   }
  },
  {
   "cell_type": "markdown",
   "source": [
    "### Height\n",
    "height of a node is the number of edges on the longest simple downward path from the node to a leaf.\n",
    "\n",
    "Since a heap of _n_ elements is a nearly complete binary tree, its height is 𝛳(lg n)\n",
    "\n",
    "Most operations on heaps run in time proportional to the height, therefore 𝛳(lg n)"
   ],
   "metadata": {
    "collapsed": false,
    "pycharm": {
     "name": "#%% md\n"
    }
   }
  },
  {
   "cell_type": "markdown",
   "source": [
    "## heap operations\n",
    "\n",
    "####  insert\n",
    "\n",
    "Because a heap is a complete tree, we know where the new node must go. On the bottom level, as far left as possible. Placing the node there maintains the Structural property. To re-establish the ordering property, a 'sift-up' operation is used. The node is compared to its parent, and swapped if less than. This continues until the ordering property is satisfied.\n",
    "\n",
    "#### sift down\n",
    "\n",
    "Sift down starts with a value in any node. It moves the value down the tree by successively exchanging the value with the _smaller_ of its two children. The operation continues until the value reaches a position where it is less than both its children, or, failing that, until it reaches a leaf.\n",
    "\n",
    "####  delete\n",
    "\n",
    "To delete a node with value X:\n",
    "1. save the value from the rightmost node on the bottom level.\n",
    "2. delete that node\n",
    "3. On the node we want to delete, overwrite X with the saved value\n",
    "4. Use sift up and/or sift down until the ordering property is reestablished."
   ],
   "metadata": {
    "collapsed": false,
    "pycharm": {
     "name": "#%% md\n"
    }
   }
  },
  {
   "cell_type": "markdown",
   "source": [
    "## Use Cases\n",
    "* _Heapsort_: One of the best sorting methods being in-place and with no quadratic worst-case scenarios.\n",
    "* _Selection algorithms_: A heap allows access to the min or max element in constant time, and other selections (such as median or kth-element) can be done in sub-linear time on data that is in a heap.[19]\n",
    "* _Graph algorithms_: By using heaps as internal traversal data structures, run time will be reduced by polynomial order. Examples of such problems are Prim's minimal-spanning-tree algorithm and Dijkstra's shortest-path algorithm.\n",
    "* _Priority Queue_: A priority queue is an abstract concept like \"a list\" or \"a map\"; just as a list can be implemented with a linked list or an array, a priority queue can be implemented with a heap or a variety of other methods.\n",
    "* _K-way merge_: A heap data structure is useful to merge many already-sorted input streams into a single sorted output stream. Examples of the need for merging include external sorting and streaming results from distributed data such as a log structured merge tree. The inner loop is obtaining the min element, replacing with the next element for the corresponding input stream, then doing a sift-down heap operation. (Alternatively the replace function.) (Using extract-max and insert functions of a priority queue are much less efficient.)\n",
    "* _Order statistics_: The Heap data structure can be used to efficiently find the kth smallest (or largest) element in an array."
   ],
   "metadata": {
    "collapsed": false,
    "pycharm": {
     "name": "#%% md\n"
    }
   }
  },
  {
   "cell_type": "markdown",
   "source": [],
   "metadata": {
    "collapsed": false,
    "pycharm": {
     "name": "#%% md\n"
    }
   }
  }
 ],
 "metadata": {
  "kernelspec": {
   "display_name": "Python 3",
   "language": "python",
   "name": "python3"
  },
  "language_info": {
   "codemirror_mode": {
    "name": "ipython",
    "version": 2
   },
   "file_extension": ".py",
   "mimetype": "text/x-python",
   "name": "python",
   "nbconvert_exporter": "python",
   "pygments_lexer": "ipython2",
   "version": "2.7.6"
  }
 },
 "nbformat": 4,
 "nbformat_minor": 0
}