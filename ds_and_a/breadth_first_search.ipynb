{
 "cells": [
  {
   "cell_type": "markdown",
   "metadata": {
    "collapsed": true,
    "pycharm": {
     "name": "#%% md\n"
    }
   },
   "source": [
    "# BFS\n",
    "https://www.khanacademy.org/computing/computer-science/algorithms/breadth-first-search/a/breadth-first-search-and-its-uses\n",
    "\n",
    "Finds the shortest paths from a given vertex to all other vertices in an unweighted graph.\n",
    "\n",
    "https://en.wikipedia.org/wiki/Breadth-first_search\n",
    "\n",
    "An algorithm for searching a tree data structure for a node that satisfies a given property. It starts at the tree root and explores all nodes at the present depth prior to moving on to the nodes at the next depth level. Extra memory, usually a queue, is needed to keep track of the child nodes that were encountered but not yet explored.\n",
    "\n",
    "Runtime: 𝛳(V + E)"
   ]
  },
  {
   "cell_type": "markdown",
   "source": [
    "## How it works\n",
    "Uses a queue to track which vertices to visit next.\n",
    "\n",
    "BFS assigns two values to each vertex:\n",
    "1. Distance - the minimum number of edges in any path from the source to this vertex\n",
    "2. Predecessor - the previous vertex along some shortest path\n",
    "For the root node, the distance will be 0 and the predecessor null.\n",
    "If a node cannot be reached from the start, the distance and predecessor will be null.\n",
    "\n",
    "Algorithm:\n",
    "```\n",
    "assign Distance 0 and Predecessor null to the root, and enqueue it\n",
    "while queue is not empty:\n",
    "    v = dequeue()\n",
    "    if v is the goal:\n",
    "        return v\n",
    "    for all neighbors w of vertex v:\n",
    "        if w has not been explored:\n",
    "            assign Distance and Predecessor\n",
    "            enqueue(w)\n",
    "\n",
    "```"
   ],
   "metadata": {
    "collapsed": false,
    "pycharm": {
     "name": "#%% md\n"
    }
   }
  }
 ],
 "metadata": {
  "kernelspec": {
   "display_name": "Python 3",
   "language": "python",
   "name": "python3"
  },
  "language_info": {
   "codemirror_mode": {
    "name": "ipython",
    "version": 2
   },
   "file_extension": ".py",
   "mimetype": "text/x-python",
   "name": "python",
   "nbconvert_exporter": "python",
   "pygments_lexer": "ipython2",
   "version": "2.7.6"
  }
 },
 "nbformat": 4,
 "nbformat_minor": 0
}