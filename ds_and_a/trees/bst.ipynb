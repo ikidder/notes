{
 "cells": [
  {
   "cell_type": "markdown",
   "source": [
    "# Binary Search Trees\n",
    "A BST is a binary tree in symmetric order.\n",
    "\n",
    "**Binary Tree**: a binary tree is either\n",
    "* _empty_ or\n",
    "* _two disjoint binary trees_ (left and right)\n",
    "\n",
    "**Symmetric Order**: Each node has a key, and every node's key is:\n",
    "* larger than all keys in its left subtree\n",
    "* smaller than all keys in its right subtree\n",
    "\n",
    "**Searching**:\n",
    "* if less, go left.\n",
    "* if greater, go right.\n",
    "* if equal, search hit.\n",
    "\n",
    "**Unsuccessful search**:\n",
    "* finds a left or right reference\n",
    "\n",
    "**Insertion**: same for unsuccessful search, but create a node there.\n",
    "\n",
    "**Tree shape**: depends on order of insertion. Worst case is like a linked list, where we've inserted items in sorted order\n",
    "\n",
    "Reference: https://algs4.cs.princeton.edu/32bst/"
   ],
   "metadata": {
    "collapsed": false,
    "pycharm": {
     "name": "#%% md\n"
    }
   }
  },
  {
   "cell_type": "code",
   "execution_count": 3,
   "outputs": [],
   "source": [
    "# a binary search tree is just a reference to a root Node\n",
    "# each Node has four fields:\n",
    "# a key\n",
    "# a value\n",
    "# references to a left and right Node\n",
    "class Node:\n",
    "    def __init__(self, key, value):\n",
    "        self.key = key\n",
    "        self.value = value\n",
    "        self.left = None\n",
    "        self.right = None"
   ],
   "metadata": {
    "collapsed": false,
    "pycharm": {
     "name": "#%%\n"
    }
   }
  },
  {
   "cell_type": "code",
   "execution_count": 4,
   "outputs": [],
   "source": [
    "def get(node: Node, key: str):\n",
    "    \"\"\"Returns the value from the given BST, or None\n",
    "    Cost: 1 + depth of the tree\n",
    "    \"\"\"\n",
    "    if not node:\n",
    "        return None\n",
    "    if key < node.key:\n",
    "        return get(node.left, key)\n",
    "    elif key > node.key:\n",
    "        return get(node.right, key)\n",
    "    else:\n",
    "        return node.value"
   ],
   "metadata": {
    "collapsed": false,
    "pycharm": {
     "name": "#%%\n"
    }
   }
  },
  {
   "cell_type": "code",
   "execution_count": 5,
   "outputs": [],
   "source": [
    "def put(node: Node, key: str, value: str) -> None:\n",
    "    \"\"\"Adds the key and value to the tree\n",
    "    If the key is already present, change the current value\n",
    "    to the new value.\n",
    "    \"\"\"\n",
    "    if not node:\n",
    "        node = Node(key, value)\n",
    "    elif key < node.key:\n",
    "        if not node.left:\n",
    "            node.left = Node(key, value)\n",
    "        else:\n",
    "            put(node.left, key, value)\n",
    "    elif key > node.key:\n",
    "        if not node.right:\n",
    "            node.right = Node(key, value)\n",
    "        else:\n",
    "            put(node.right, key, value)\n",
    "    else:\n",
    "        node.value = value"
   ],
   "metadata": {
    "collapsed": false,
    "pycharm": {
     "name": "#%%\n"
    }
   }
  },
  {
   "cell_type": "markdown",
   "source": [
    "Note: Correspondence between BSTs and quicksort partitioning. If no duplicate keys, there's a 1-to-1 between what happens in a BST and in quicksort. For a given key, everything less than is to the left, everything greater than is to the right.\n",
    "\n",
    "Proposition: If N distinct keys are inserted into a BST in _random_ order, the expected number of compares for a search/insert is ~2 ln N.\n",
    "Pf. 1-to-1 correspondence with quicksort partitioning."
   ],
   "metadata": {
    "collapsed": false,
    "pycharm": {
     "name": "#%% md\n"
    }
   }
  },
  {
   "cell_type": "code",
   "execution_count": 6,
   "outputs": [],
   "source": [
    "def min(root):\n",
    "    \"\"\"Returns the minimum value in the tree.\"\"\"\n",
    "    if not root:\n",
    "        return None  # empty tree\n",
    "    if root.left:\n",
    "        return min(root.left)\n",
    "    else:\n",
    "        return root.value\n",
    "\n",
    "def max(root):\n",
    "    \"\"\"Returns the maximum value in the tree.\"\"\"\n",
    "    if not root:\n",
    "        return None # empty tree\n",
    "    if root.right:\n",
    "        return min(root.right)\n",
    "    else:\n",
    "        return root.value"
   ],
   "metadata": {
    "collapsed": false,
    "pycharm": {
     "name": "#%%\n"
    }
   }
  },
  {
   "cell_type": "code",
   "execution_count": 7,
   "outputs": [],
   "source": [
    "def floor(root, key):\n",
    "    \"\"\"Find the largest key <= a given key.\n",
    "    Case 1: k equals the key at root -> floor(k) = k\n",
    "    Case 2: k is less than the key at the root -> floor(k) is in the left subtree\n",
    "    Case 3: k is greater than the key at the root -> floor(k) is in the right subtree,\n",
    "    if there is _any_ key <= k in the right subtree, otherwise it is the key in the root.\"\"\"\n",
    "    if not root:\n",
    "        return\n",
    "    if key == root.key:\n",
    "        return key\n",
    "    elif key < root.key:\n",
    "        if root.left:\n",
    "            return floor(root.left, key)\n",
    "        else:\n",
    "            return None\n",
    "    else:\n",
    "        if root.right:\n",
    "            k = floor(root.right, key)\n",
    "            return k if k else root.key\n",
    "        else:\n",
    "            return root.key"
   ],
   "metadata": {
    "collapsed": false,
    "pycharm": {
     "name": "#%%\n"
    }
   }
  },
  {
   "cell_type": "markdown",
   "source": [
    "The put function above is iterative. If we need to keep track of how many nodes are below a certain node, a recursive implementation is probably easier. Same if we need to answer how many keys are < k?"
   ],
   "metadata": {
    "collapsed": false,
    "pycharm": {
     "name": "#%% md\n"
    }
   }
  },
  {
   "cell_type": "markdown",
   "source": [
    "# Traversals"
   ],
   "metadata": {
    "collapsed": false,
    "pycharm": {
     "name": "#%% md\n"
    }
   }
  },
  {
   "cell_type": "markdown",
   "source": [
    "## Iterating over the tree: Inorder traversal\n",
    "1. Traverse left subtree\n",
    "2. enqueue key\n",
    "3. Traverse right subtree"
   ],
   "metadata": {
    "collapsed": false,
    "pycharm": {
     "name": "#%% md\n"
    }
   }
  },
  {
   "cell_type": "code",
   "execution_count": 8,
   "outputs": [],
   "source": [
    "from collections import deque\n",
    "\n",
    "def traverse_inorder(node):\n",
    "    q = deque()\n",
    "    _traverse_inorder(node, q)\n",
    "    return q\n",
    "\n",
    "def _traverse_inorder(node, q):\n",
    "    if not node:\n",
    "        return None\n",
    "    _traverse_inorder(node, q.left)\n",
    "    q.append(node.key)\n",
    "    _traverse_inorder(node, q.right)"
   ],
   "metadata": {
    "collapsed": false,
    "pycharm": {
     "name": "#%%\n"
    }
   }
  },
  {
   "cell_type": "markdown",
   "source": [
    "# BST deletion\n"
   ],
   "metadata": {
    "collapsed": false,
    "pycharm": {
     "name": "#%% md\n"
    }
   }
  },
  {
   "cell_type": "code",
   "execution_count": 9,
   "outputs": [],
   "source": [
    "def delete_min_key(node, key):\n",
    "    \"\"\"\n",
    "    Go left until finding a node with a null left link\n",
    "    Replace the node by its right link\n",
    "    update subtree counts\n",
    "    \"\"\"\n",
    "    if not node.left:\n",
    "        return node.right\n",
    "    node.left = delete_min_key(node.left)\n",
    "    node.count = 1 + node.left.size + node.right.size\n",
    "    return node"
   ],
   "metadata": {
    "collapsed": false,
    "pycharm": {
     "name": "#%%\n"
    }
   }
  },
  {
   "cell_type": "markdown",
   "source": [
    "## General deletion\n",
    "To delete a node with key _k_: search for node _n_ containing key _k_.\n",
    "Case 0: [0 Children] Delete _n_ by setting parent link to null\n",
    "Case 1: [1 child] Delete _n_ by setting parent link to that child\n",
    "Case 2: [2 children]\n",
    "    1. Find smallest node in right subtree. So, go right once, then left until you hit a null link.\n",
    "    2. Delete the minimum in _n_'s right subtree\n",
    "    3. Put _x_ in _n_'s spot\n",
    "    4. update links and node counts after recursive calls"
   ],
   "metadata": {
    "collapsed": false,
    "pycharm": {
     "name": "#%% md\n"
    }
   }
  },
  {
   "cell_type": "code",
   "execution_count": 10,
   "outputs": [],
   "source": [
    "# not good\n",
    "def delete(node, key):\n",
    "    if not node:\n",
    "        return None\n",
    "    if key < node.key:                     # Searching for the key\n",
    "        delete(node.left, key)             # |\n",
    "    elif key > node.key:                   # |\n",
    "        delete(node.right, key)            # |\n",
    "    else:                                  # Found it\n",
    "        if not node.right:                 # Cases 0 and 1: 0 or 1 children\n",
    "            return node.left               # |\n",
    "        if not node.left:                  # |\n",
    "            return node.right              # |\n",
    "                                           # |\n",
    "        temp = node                        # Case 2: 2 children\n",
    "        node = min(temp.right)             # |\n",
    "        node.right = delete_min_key(temp.right)\n",
    "        node.left = temp.left              # |\n",
    "\n",
    "    node.count = node.left.size + node.right.size + 1\n",
    "    return node"
   ],
   "metadata": {
    "collapsed": false,
    "pycharm": {
     "name": "#%%\n"
    }
   }
  },
  {
   "cell_type": "markdown",
   "source": [
    "The issue with the above implementation is that, over time, the tree becomes less balanced. The height of the tree will eventually become sqrt(N) rather than lg N. Random choice between subtrees shows the same problem."
   ],
   "metadata": {
    "collapsed": false,
    "pycharm": {
     "name": "#%% md\n"
    }
   }
  }
 ],
 "metadata": {
  "kernelspec": {
   "display_name": "Python 3",
   "language": "python",
   "name": "python3"
  },
  "language_info": {
   "codemirror_mode": {
    "name": "ipython",
    "version": 2
   },
   "file_extension": ".py",
   "mimetype": "text/x-python",
   "name": "python",
   "nbconvert_exporter": "python",
   "pygments_lexer": "ipython2",
   "version": "2.7.6"
  }
 },
 "nbformat": 4,
 "nbformat_minor": 0
}