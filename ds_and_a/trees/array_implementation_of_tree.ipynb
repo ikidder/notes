{
 "cells": [
  {
   "cell_type": "markdown",
   "metadata": {
    "collapsed": true,
    "pycharm": {
     "name": "#%% md\n"
    }
   },
   "source": [
    "# How to implement binary tree with an array\n",
    "https://webdocs.cs.ualberta.ca/~holte/T26/tree-as-array.html\n",
    "\n",
    "https://en.wikipedia.org/wiki/Heap_(data_structure)\n",
    "Given a node at index _i_:\n",
    "* its children are at _2i + 1_ and _2i + 2_\n",
    "* its parent is at _⌊(i-1)/2⌋_\n",
    "\n",
    "example:\n",
    "[0, 1, 2, 3, 4, 5, 6]\n",
    "\n",
    "# Array size\n",
    "if we use an array to implement a tree we have to set a limit on the number of nodes we will permit in the tree. Our strategy is to fix the maximum height of the tree (H), and make the array big enough to hold any binary tree of this height (or less). We'll need an array of size (2**H)-1.\n",
    "\n"
   ]
  },
  {
   "cell_type": "code",
   "source": [
    "class Node:\n",
    "    def __init__(self, val, left=None, right=None):\n",
    "        self.val = val\n",
    "        self.left = left\n",
    "        self.right = right\n",
    "\n",
    "def tree_to_array(root):\n",
    "    arr = [None] * ()\n",
    "        return []\n",
    "    curr = root\n",
    "\n",
    "\n"
   ],
   "metadata": {
    "collapsed": false,
    "pycharm": {
     "name": "#%%\n"
    }
   },
   "execution_count": null,
   "outputs": []
  },
  {
   "cell_type": "code",
   "execution_count": null,
   "outputs": [],
   "source": [],
   "metadata": {
    "collapsed": false,
    "pycharm": {
     "name": "#%%\n"
    }
   }
  }
 ],
 "metadata": {
  "kernelspec": {
   "display_name": "Python 3",
   "language": "python",
   "name": "python3"
  },
  "language_info": {
   "codemirror_mode": {
    "name": "ipython",
    "version": 2
   },
   "file_extension": ".py",
   "mimetype": "text/x-python",
   "name": "python",
   "nbconvert_exporter": "python",
   "pygments_lexer": "ipython2",
   "version": "2.7.6"
  }
 },
 "nbformat": 4,
 "nbformat_minor": 0
}