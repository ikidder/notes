{
 "cells": [
  {
   "cell_type": "markdown",
   "metadata": {
    "collapsed": true,
    "pycharm": {
     "name": "#%% md\n"
    }
   },
   "source": [
    "# insertion sort\n",
    "https://www.khanacademy.org/computing/computer-science/algorithms/insertion-sort/a/insertion-sort\n",
    "\n",
    "Loop over positions in the array, starting with index 1. Insert each element into the correct place in the sorted subarray to the left of that position.\n",
    "\n",
    "To insert element i in the correct place, swap l[i] and l[i-1] until l[i-1] < l[i]"
   ]
  },
  {
   "cell_type": "code",
   "execution_count": 37,
   "outputs": [],
   "source": [
    "def insertion_sort(seq):\n",
    "    for i in range(1, len(seq) -1):\n",
    "        index = i\n",
    "        while index > 0 and seq[index] < seq[index - 1]:\n",
    "            seq[index - 1], seq[index] = seq[index], seq[index - 1]\n",
    "            index -= 1"
   ],
   "metadata": {
    "collapsed": false,
    "pycharm": {
     "name": "#%%\n"
    }
   }
  },
  {
   "cell_type": "code",
   "execution_count": 38,
   "outputs": [
    {
     "name": "stdout",
     "output_type": "stream",
     "text": [
      "[3]\n",
      "[3]\n",
      "********************\n",
      "[77, 81, 82, 68, 32, 90, 10, 4, 5, 9, 14, 52, 56, 27, 41, 3, 87]\n",
      "[3, 4, 5, 9, 10, 14, 27, 32, 41, 52, 56, 68, 77, 81, 82, 90, 87]\n",
      "********************\n",
      "[36, 91, 51, 44, 36, 99, 87, 21, 47, 72, 78, 8]\n",
      "[21, 36, 36, 44, 47, 51, 72, 78, 87, 91, 99, 8]\n",
      "********************\n",
      "[76, 29, 100, 88, 2, 6, 50, 79, 28, 63, 41, 2, 88, 86, 19, 49, 82, 62]\n",
      "[2, 2, 6, 19, 28, 29, 41, 49, 50, 63, 76, 79, 82, 86, 88, 88, 100, 62]\n",
      "********************\n",
      "[60, 53, 94, 9, 59, 36]\n",
      "[9, 53, 59, 60, 94, 36]\n",
      "********************\n",
      "[80, 82, 74, 43, 35, 71, 52, 9, 85, 0, 72, 8, 24, 75, 76, 80, 0, 22]\n",
      "[0, 0, 8, 9, 24, 35, 43, 52, 71, 72, 74, 75, 76, 80, 80, 82, 85, 22]\n",
      "********************\n",
      "[26, 19, 58, 81, 19, 1, 97, 89, 47, 13, 94, 31, 11, 39, 94, 30]\n",
      "[1, 11, 13, 19, 19, 26, 31, 39, 47, 58, 81, 89, 94, 94, 97, 30]\n",
      "********************\n",
      "[23, 9, 67, 22, 98, 48, 95, 50, 62, 52, 63]\n",
      "[9, 22, 23, 48, 50, 52, 62, 67, 95, 98, 63]\n",
      "********************\n",
      "[77, 8, 18]\n",
      "[8, 77, 18]\n",
      "********************\n",
      "[49, 10, 68, 4, 16, 10, 93, 4, 76, 89, 98, 64, 62, 45, 9, 76, 70, 42, 46]\n",
      "[4, 4, 9, 10, 10, 16, 42, 45, 49, 62, 64, 68, 70, 76, 76, 89, 93, 98, 46]\n",
      "********************\n"
     ]
    }
   ],
   "source": [
    "import random\n",
    "for i in range(10):\n",
    "    seq = [random.randint(0,100) for i in range(random.randint(0,20))]\n",
    "    print(seq)\n",
    "    insertion_sort(seq)\n",
    "    print(seq)\n",
    "    print('*' * 20)"
   ],
   "metadata": {
    "collapsed": false,
    "pycharm": {
     "name": "#%%\n"
    }
   }
  },
  {
   "cell_type": "markdown",
   "source": [
    "Analysis of Insertion Sort:\n",
    "Worst case: 𝛳(n²)  -- the starting array was sorted in reversion order\n",
    "Best case: 𝛳(n)  -- the starting array was sorted\n",
    "Avg case: 𝛳(n²)  -- random array"
   ],
   "metadata": {
    "collapsed": false,
    "pycharm": {
     "name": "#%% md\n"
    }
   }
  }
 ],
 "metadata": {
  "kernelspec": {
   "display_name": "Python 3",
   "language": "python",
   "name": "python3"
  },
  "language_info": {
   "codemirror_mode": {
    "name": "ipython",
    "version": 2
   },
   "file_extension": ".py",
   "mimetype": "text/x-python",
   "name": "python",
   "nbconvert_exporter": "python",
   "pygments_lexer": "ipython2",
   "version": "2.7.6"
  }
 },
 "nbformat": 4,
 "nbformat_minor": 0
}