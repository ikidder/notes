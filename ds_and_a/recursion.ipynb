{
 "cells": [
  {
   "cell_type": "markdown",
   "metadata": {
    "collapsed": true,
    "pycharm": {
     "name": "#%% md\n"
    }
   },
   "source": [
    "# Recursion\n",
    "recursion is a method of solving a computational problem where the solution depends on solutions to smaller instances of the same problem. Recursion solves such recursive problems by using functions that call themselves from within their own code. [source](https://en.wikipedia.org/wiki/Recursion_(computer_science))\n",
    "\n",
    "A recursive function is a function that calls itself as part of its execution.\n",
    "A recursive data structure is a data structure that relies on smaller instances of the same type of data structure.\n",
    "\n",
    "Recursion is an alternative to loops for performing repetitive tasks."
   ]
  },
  {
   "cell_type": "markdown",
   "source": [
    "# Factorial\n",
    "\n",
    "```\n",
    "n! = 1  if n = 0\n",
    "n! = n * (n -1) * (n - 2) . . . 3 * 2 * 1  if n >= 1\n",
    "```\n",
    "Example: 5! = 5 * 4 * 3 * 2 * 1 = 120\n",
    "\n",
    "Factorial is naturally recursive: 5! = 5 * (4 * 3 * 2 * 1) = 5 * 4!"
   ],
   "metadata": {
    "collapsed": false,
    "pycharm": {
     "name": "#%% md\n"
    }
   }
  },
  {
   "cell_type": "code",
   "execution_count": 2,
   "outputs": [],
   "source": [
    "def factorial(n):\n",
    "    if n == 0:\n",
    "        return 1\n",
    "    else:\n",
    "        return n * factorial(n - 1)"
   ],
   "metadata": {
    "collapsed": false,
    "pycharm": {
     "name": "#%%\n"
    }
   }
  },
  {
   "cell_type": "code",
   "execution_count": 4,
   "outputs": [
    {
     "name": "stdout",
     "output_type": "stream",
     "text": [
      "0! =  1\n",
      "1! =  1\n",
      "2! =  2\n",
      "3! =  6\n",
      "4! =  24\n",
      "5! =  120\n",
      "6! =  720\n",
      "7! =  5040\n",
      "8! =  40320\n",
      "9! =  362880\n",
      "10! =  3628800\n"
     ]
    }
   ],
   "source": [
    "for i in range(0, 11):\n",
    "    print(f'{i}! = ', factorial(i))"
   ],
   "metadata": {
    "collapsed": false,
    "pycharm": {
     "name": "#%%\n"
    }
   }
  },
  {
   "cell_type": "markdown",
   "source": [
    "# Fibonacci\n",
    "\n",
    "F0 = 0\n",
    "F1 = 1\n",
    "Fn = F<sub>n - 2</sub> + F<sub>n - 1</sub> for n > 1"
   ],
   "metadata": {
    "collapsed": false,
    "pycharm": {
     "name": "#%% md\n"
    }
   }
  },
  {
   "cell_type": "code",
   "execution_count": 5,
   "outputs": [],
   "source": [
    "# direct translation of the definition into a recursive function\n",
    "# which is terrible\n",
    "# because it recomputes the same values over and over\n",
    "def bad_fib(n):\n",
    "    if n <= 1:\n",
    "        return 1\n",
    "    else:\n",
    "        return bad_fib(n-2) + bad_fib(n-1)"
   ],
   "metadata": {
    "collapsed": false,
    "pycharm": {
     "name": "#%%\n"
    }
   }
  },
  {
   "cell_type": "code",
   "execution_count": 11,
   "outputs": [
    {
     "name": "stdout",
     "output_type": "stream",
     "text": [
      "         21894 function calls (4 primitive calls) in 0.007 seconds\n",
      "\n",
      "   Ordered by: standard name\n",
      "\n",
      "   ncalls  tottime  percall  cumtime  percall filename:lineno(function)\n",
      "  21891/1    0.007    0.000    0.007    0.007 3689169507.py:4(bad_fib)\n",
      "        1    0.000    0.000    0.007    0.007 <string>:1(<module>)\n",
      "        1    0.000    0.000    0.007    0.007 {built-in method builtins.exec}\n",
      "        1    0.000    0.000    0.000    0.000 {method 'disable' of '_lsprof.Profiler' objects}\n",
      "\n",
      "\n"
     ]
    }
   ],
   "source": [
    "import  cProfile\n",
    "import re\n",
    "cProfile.run('bad_fib(20)')"
   ],
   "metadata": {
    "collapsed": false,
    "pycharm": {
     "name": "#%%\n"
    }
   }
  },
  {
   "cell_type": "code",
   "execution_count": 13,
   "outputs": [
    {
     "name": "stdout",
     "output_type": "stream",
     "text": [
      "(0, 0)\n",
      "(1, 0)\n",
      "(1, 1)\n",
      "(2, 1)\n",
      "(3, 2)\n",
      "(5, 3)\n",
      "(8, 5)\n",
      "(13, 8)\n",
      "(21, 13)\n",
      "(34, 21)\n"
     ]
    }
   ],
   "source": [
    "# a better implementation of fibonacci\n",
    "# by returning both n and n-1, each invocation\n",
    "# will only call itself once.\n",
    "# O(n)\n",
    "def good_fib(n):\n",
    "    if n <= 1:\n",
    "        return (n, 0)\n",
    "    else:\n",
    "        (a,b) = good_fib(n-1)\n",
    "    return a + b, a\n",
    "\n",
    "for i in range(10):\n",
    "    print(good_fib(i))"
   ],
   "metadata": {
    "collapsed": false,
    "pycharm": {
     "name": "#%%\n"
    }
   }
  },
  {
   "cell_type": "code",
   "execution_count": 15,
   "outputs": [
    {
     "name": "stdout",
     "output_type": "stream",
     "text": [
      "         23 function calls (4 primitive calls) in 0.000 seconds\n",
      "\n",
      "   Ordered by: standard name\n",
      "\n",
      "   ncalls  tottime  percall  cumtime  percall filename:lineno(function)\n",
      "     20/1    0.000    0.000    0.000    0.000 3337705450.py:5(good_fib)\n",
      "        1    0.000    0.000    0.000    0.000 <string>:1(<module>)\n",
      "        1    0.000    0.000    0.000    0.000 {built-in method builtins.exec}\n",
      "        1    0.000    0.000    0.000    0.000 {method 'disable' of '_lsprof.Profiler' objects}\n",
      "\n",
      "\n"
     ]
    }
   ],
   "source": [
    "cProfile.run('good_fib(20)')"
   ],
   "metadata": {
    "collapsed": false,
    "pycharm": {
     "name": "#%%\n"
    }
   }
  },
  {
   "cell_type": "markdown",
   "source": [
    "the designers of Python made an intentional decision to limit the overall number of function\n",
    "activations that can be simultaneously active. The precise value of this limit depends\n",
    "upon the Python distribution, but a typical default value is 1000. If this limit is reached,\n",
    "the Python interpreter raises a RuntimeError with a message, maximum recursion depth exceeded."
   ],
   "metadata": {
    "collapsed": false,
    "pycharm": {
     "name": "#%% md\n"
    }
   }
  },
  {
   "cell_type": "code",
   "execution_count": 16,
   "outputs": [
    {
     "name": "stdout",
     "output_type": "stream",
     "text": [
      "3000\n"
     ]
    }
   ],
   "source": [
    "# how to change recursion limit\n",
    "import sys\n",
    "old = sys.getrecursionlimit( ) # perhaps 1000 is typical\n",
    "print(old)\n",
    "sys.setrecursionlimit(1000000) # change to allow 1 million nested calls"
   ],
   "metadata": {
    "collapsed": false,
    "pycharm": {
     "name": "#%%\n"
    }
   }
  },
  {
   "cell_type": "markdown",
   "source": [
    "# Kinds of recursion\n",
    "* linear - one recursion per call\n",
    "* binary - two recursions per call\n",
    "* multiple - >= 3 recursions per call\n",
    "Note that these names do not describe the runtime complexity. We're not saying anything about Big O here."
   ],
   "metadata": {
    "collapsed": false,
    "pycharm": {
     "name": "#%% md\n"
    }
   }
  },
  {
   "cell_type": "code",
   "execution_count": 18,
   "outputs": [],
   "source": [
    "# Summing a sequence with Linear Recursion\n",
    "def linear_sum(S, n):\n",
    "    \"\"\"Return the sum of the first n numbers of S\"\"\"\n",
    "    if n == 0:\n",
    "        return 0\n",
    "    else:\n",
    "        return S[n-1] + linear_sum(S, n-1)"
   ],
   "metadata": {
    "collapsed": false,
    "pycharm": {
     "name": "#%%\n"
    }
   }
  },
  {
   "cell_type": "code",
   "execution_count": 23,
   "outputs": [],
   "source": [
    "import random\n",
    "data = [[],[1],[-2]]\n",
    "for _ in range(20):\n",
    "    data.append([random.randint(0,101) for i in range(20)])\n",
    "\n",
    "for d in data:\n",
    "    assert linear_sum(d, len(d)) == sum(d)"
   ],
   "metadata": {
    "collapsed": false,
    "pycharm": {
     "name": "#%%\n"
    }
   }
  },
  {
   "cell_type": "code",
   "execution_count": 23,
   "outputs": [],
   "source": [
    "# Reversing a sequence with Linear Recursion\n",
    "def reverse(S, start, stop):\n",
    "    if start < stop-1:         # if at least two elements\n",
    "        S[start], S[stop-1] = S[stop-1], S[start]\n",
    "        reverse(S, start + 1, stop - 1)\n",
    "# note that there are base cases here:\n",
    "# 1. start == stop, which means the sequence is empty\n",
    "# 2. start == stop -1, which means the sequence has one element\n",
    "# for either case, the sequence can't be reversed, and we return it"
   ],
   "metadata": {
    "collapsed": false,
    "pycharm": {
     "name": "#%%\n"
    }
   }
  },
  {
   "cell_type": "markdown",
   "source": [
    "# Designing a recursive algorithm\n",
    "1. Test for base case(s). The base cases can't recurse.\n",
    "2. If not a base case, we make one or more recursive calls that move towards the base case.\n",
    "\n",
    "Often, a recursive solution will require additional parameters. (See example above, like the binary search.) You can create a helper function, or just add params."
   ],
   "metadata": {
    "collapsed": false,
    "pycharm": {
     "name": "#%% md\n"
    }
   }
  },
  {
   "cell_type": "markdown",
   "source": [
    "Tail recursion. A recursion is a tail recursion if any recursive call that is made from one context is the very last operation in that context, with the return value of the recursive call (if any) immediately returned by the enclosing recursion. By necessity, a tail recursion must be a linear recursion (since there is no way to make a second recursive call if you must immediately return the result of the first).\n",
    "Of the recursive functions demonstrated in this chapter, the binary search func- tion of Code Fragment 4.3 and the reverse function of Code Fragment 4.10 are examples of tail recursion."
   ],
   "metadata": {
    "collapsed": false,
    "pycharm": {
     "name": "#%% md\n"
    }
   }
  }
 ],
 "metadata": {
  "kernelspec": {
   "display_name": "Python 3",
   "language": "python",
   "name": "python3"
  },
  "language_info": {
   "codemirror_mode": {
    "name": "ipython",
    "version": 2
   },
   "file_extension": ".py",
   "mimetype": "text/x-python",
   "name": "python",
   "nbconvert_exporter": "python",
   "pygments_lexer": "ipython2",
   "version": "2.7.6"
  }
 },
 "nbformat": 4,
 "nbformat_minor": 0
}