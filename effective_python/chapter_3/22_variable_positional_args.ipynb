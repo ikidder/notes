{
 "cells": [
  {
   "cell_type": "markdown",
   "metadata": {
    "collapsed": true,
    "pycharm": {
     "name": "#%% md\n"
    }
   },
   "source": [
    "A function accepting a variable number of positional arguments can make it easier to read. These arguments are sometimes called _varargs_ or _star args_."
   ]
  },
  {
   "cell_type": "code",
   "execution_count": 3,
   "outputs": [
    {
     "name": "stdout",
     "output_type": "stream",
     "text": [
      "My numbers are: 1, 2\n",
      "Hi there\n",
      "Favorite colors: 7, 33, 99\n"
     ]
    }
   ],
   "source": [
    "def log(message, *values):\n",
    "    if not values:\n",
    "        print(message)\n",
    "    else:\n",
    "        values_str = ', '.join(str(x) for x in values)\n",
    "        print(f'{message}: {values_str}')\n",
    "\n",
    "log('My numbers are', 1, 2)   # Note that we don't need to put these into a list first\n",
    "log('Hi there')               # If we don't have any values, we don't need to pass in an empty list\n",
    "\n",
    "favorites = [7, 33, 99]\n",
    "log('Favorite colors', *favorites)  # The '*' operator passes items from the sequence as positional args"
   ],
   "metadata": {
    "collapsed": false,
    "pycharm": {
     "name": "#%%\n"
    }
   }
  },
  {
   "cell_type": "markdown",
   "source": [
    "Two problems with variable positional arguments:\n",
    "1. Whatever sequence is operated on by the '*' is turned into a tuple. If this is a long sequence/generator, it could cause the program to run out of memory and crash.\n",
    "2. You can't add new positional args to a function without migrating every caller. If you add a positional arg in front of the arg list, existing callers will subtly break."
   ],
   "metadata": {
    "collapsed": false,
    "pycharm": {
     "name": "#%% md\n"
    }
   }
  },
  {
   "cell_type": "code",
   "execution_count": 5,
   "outputs": [
    {
     "name": "stdout",
     "output_type": "stream",
     "text": [
      "1 - Favorites: 7, 33\n",
      "1 - Hi there\n",
      "Favorite numbers - 7: 33\n"
     ]
    }
   ],
   "source": [
    "def log(sequence, message, *values):\n",
    "    if not values:\n",
    "        print(f'{sequence} - {message}')\n",
    "    else:\n",
    "        values_str = ', '.join(str(x) for x in values)\n",
    "        print(f'{sequence} - {message}: {values_str}')\n",
    "\n",
    "log(1, 'Favorites', 7, 33) # New with *args WORKS\n",
    "log(1, 'Hi there')  # New message only WORKS\n",
    "log('Favorite numbers', 7, 33)  # Old function call BREAKS. Uses '7' as the message."
   ],
   "metadata": {
    "collapsed": false,
    "pycharm": {
     "name": "#%%\n"
    }
   }
  },
  {
   "cell_type": "code",
   "execution_count": null,
   "outputs": [],
   "source": [],
   "metadata": {
    "collapsed": false,
    "pycharm": {
     "name": "#%%\n"
    }
   }
  }
 ],
 "metadata": {
  "kernelspec": {
   "display_name": "Python 3",
   "language": "python",
   "name": "python3"
  },
  "language_info": {
   "codemirror_mode": {
    "name": "ipython",
    "version": 2
   },
   "file_extension": ".py",
   "mimetype": "text/x-python",
   "name": "python",
   "nbconvert_exporter": "python",
   "pygments_lexer": "ipython2",
   "version": "2.7.6"
  }
 },
 "nbformat": 4,
 "nbformat_minor": 0
}