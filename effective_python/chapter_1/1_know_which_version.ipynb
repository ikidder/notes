{
 "cells": [
  {
   "cell_type": "code",
   "source": [
    "# From the command line:\n",
    "\n",
    "# $ python --version\n",
    "# Python 2.7.10\n",
    "\n",
    "\n",
    "# $ python3 --version\n",
    "# Python 3.8.0"
   ],
   "metadata": {
    "collapsed": false,
    "pycharm": {
     "name": "#%%\n"
    }
   },
   "execution_count": 3,
   "outputs": []
  },
  {
   "cell_type": "code",
   "execution_count": 5,
   "outputs": [
    {
     "name": "stdout",
     "output_type": "stream",
     "text": [
      "sys.version_info(major=3, minor=9, micro=0, releaselevel='final', serial=0)\n",
      "********************\n",
      "3.9.0 (v3.9.0:9cf6752276, Oct  5 2020, 11:29:23) \n",
      "[Clang 6.0 (clang-600.0.57)]\n"
     ]
    }
   ],
   "source": [
    "# At runtime\n",
    "\n",
    "import sys\n",
    "print(sys.version_info)\n",
    "print('*' * 20)\n",
    "print(sys.version)"
   ],
   "metadata": {
    "collapsed": false,
    "pycharm": {
     "name": "#%%\n"
    }
   }
  }
 ],
 "metadata": {
  "kernelspec": {
   "display_name": "Python 3",
   "language": "python",
   "name": "python3"
  },
  "language_info": {
   "codemirror_mode": {
    "name": "ipython",
    "version": 2
   },
   "file_extension": ".py",
   "mimetype": "text/x-python",
   "name": "python",
   "nbconvert_exporter": "python",
   "pygments_lexer": "ipython2",
   "version": "2.7.6"
  }
 },
 "nbformat": 4,
 "nbformat_minor": 0
}