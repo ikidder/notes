{
 "cells": [
  {
   "cell_type": "code",
   "execution_count": 1,
   "metadata": {
    "collapsed": true
   },
   "outputs": [
    {
     "name": "stdout",
     "output_type": "stream",
     "text": [
      "Binary is 187, hex is 3167\n"
     ]
    }
   ],
   "source": [
    "# Rather than the old, C-style, string formatting that looks like this:\n",
    "a = 0b10111011 # a binary number\n",
    "b = 0xc5f # a hexadecimal number\n",
    "print ('Binary is %d, hex is %d' % (a, b))"
   ]
  },
  {
   "cell_type": "code",
   "execution_count": 2,
   "outputs": [
    {
     "name": "stdout",
     "output_type": "stream",
     "text": [
      "my-var = 1.234\n"
     ]
    }
   ],
   "source": [
    "# Use the new f-strings available since Python 3.6\n",
    "key = 'my-var'\n",
    "value = 1.234\n",
    "\n",
    "formatted = f'{key} = {value}'\n",
    "print(formatted)"
   ],
   "metadata": {
    "collapsed": false,
    "pycharm": {
     "name": "#%%\n"
    }
   }
  }
 ],
 "metadata": {
  "kernelspec": {
   "display_name": "Python 3",
   "language": "python",
   "name": "python3"
  },
  "language_info": {
   "codemirror_mode": {
    "name": "ipython",
    "version": 2
   },
   "file_extension": ".py",
   "mimetype": "text/x-python",
   "name": "python",
   "nbconvert_exporter": "python",
   "pygments_lexer": "ipython2",
   "version": "2.7.6"
  }
 },
 "nbformat": 4,
 "nbformat_minor": 0
}