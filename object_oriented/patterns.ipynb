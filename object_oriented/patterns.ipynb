{
 "cells": [
  {
   "cell_type": "markdown",
   "source": [
    "# Object Oriented Patterns"
   ],
   "metadata": {
    "collapsed": false,
    "pycharm": {
     "name": "#%% md\n"
    }
   }
  },
  {
   "cell_type": "markdown",
   "source": [
    "## Adapter\n",
    "> The adapter design pattern applies to any context where we effectively want to modify an existing class so that its methods match those of a related, but different, class or interface. One general way to apply the adapter pattern is to define a new class in such a way that it contains an instance of the existing class as a hidden field, and then to implement each method of the new class using methods of this hidden instance variable.\n",
    "\n",
    "from _DS and A in Python_\n",
    "\n",
    "Create a Stack adapter from a Python list by mapping list operations to the Stack interface:\n",
    "\n",
    "| List op | Stack op |\n",
    "| ------- | -------- |\n",
    "| append() | push()  |\n",
    "| pop() | pop()   |\n",
    "| l[-1] | top()   |\n",
    "| len(l) == 0 | is_empty() |\n",
    "| len() | len() |"
   ],
   "metadata": {
    "collapsed": false,
    "pycharm": {
     "name": "#%% md\n"
    }
   }
  },
  {
   "cell_type": "markdown",
   "source": [
    "## Decorator\n",
    "_makes it possible to add or alter behavior of an interface at run-time_\n",
    "https://en.wikipedia.org/wiki/Decorator_pattern"
   ],
   "metadata": {
    "collapsed": false,
    "pycharm": {
     "name": "#%% md\n"
    }
   }
  },
  {
   "cell_type": "markdown",
   "source": [
    "## Facade\n",
    "_used when an easier or simpler interface to an underlying object is desired_\n",
    "https://en.wikipedia.org/wiki/Facade_pattern"
   ],
   "metadata": {
    "collapsed": false,
    "pycharm": {
     "name": "#%% md\n"
    }
   }
  },
  {
   "cell_type": "markdown",
   "source": [
    "## Singleton\n",
    "_Ensure that a class only has one instance_\n",
    "https://en.wikipedia.org/wiki/Singleton_pattern\n",
    "\n",
    "Pythonic way to create a singleton is to put the necessary functions and variables in a module, and not in any class structure.\n",
    "\n",
    "See: https://stackoverflow.com/questions/31875/is-there-a-simple-elegant-way-to-define-singletons"
   ],
   "metadata": {
    "collapsed": false,
    "pycharm": {
     "name": "#%% md\n"
    }
   }
  },
  {
   "cell_type": "markdown",
   "source": [
    "## Chain of Responsibility\n",
    "Define a chain of receiver objects having the responsibility, depending on run-time conditions, to either handle a request or forward it to the next receiver on the chain (if any).\n",
    "This enables us to send a request to a chain of receivers without having to know which one handles the request. The request gets passed along the chain until a receiver handles the request. The sender of a request is no longer coupled to a particular receiver.\n",
    "\n",
    "Purpose: to decouple the sender of a request from the processing of the request.\n",
    "\n",
    "Example: a logger where different log levels are handled by different implementations of an abstract log class. See: https://en.wikipedia.org/wiki/Chain-of-responsibility_pattern"
   ],
   "metadata": {
    "collapsed": false,
    "pycharm": {
     "name": "#%% md\n"
    }
   }
  },
  {
   "cell_type": "markdown",
   "source": [
    "## Iterator\n",
    "\n",
    " A design pattern in which an iterator is used to traverse a container and access the container's elements. The iterator pattern decouples algorithms from containers; in some cases, algorithms are necessarily container-specific and thus cannot be decoupled.\n",
    "\n",
    "https://en.wikipedia.org/wiki/Iterator_pattern"
   ],
   "metadata": {
    "collapsed": false,
    "pycharm": {
     "name": "#%% md\n"
    }
   }
  },
  {
   "cell_type": "code",
   "execution_count": null,
   "outputs": [],
   "source": [],
   "metadata": {
    "collapsed": false,
    "pycharm": {
     "name": "#%%\n"
    }
   }
  }
 ],
 "metadata": {
  "kernelspec": {
   "display_name": "Python 3",
   "language": "python",
   "name": "python3"
  },
  "language_info": {
   "codemirror_mode": {
    "name": "ipython",
    "version": 2
   },
   "file_extension": ".py",
   "mimetype": "text/x-python",
   "name": "python",
   "nbconvert_exporter": "python",
   "pygments_lexer": "ipython2",
   "version": "2.7.6"
  }
 },
 "nbformat": 4,
 "nbformat_minor": 0
}