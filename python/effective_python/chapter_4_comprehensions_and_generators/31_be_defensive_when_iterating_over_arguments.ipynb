{
 "cells": [
  {
   "cell_type": "code",
   "source": [
    "def normalize(numbers):\n",
    "    total = sum(numbers)\n",
    "    result = []\n",
    "    for value in numbers:\n",
    "        percent = 100 * value / total\n",
    "        result.append(percent)\n",
    "    return result\n",
    "\n",
    "# Give this function a list of lists, and it works as expected.\n",
    "visits = [15, 35, 80]\n",
    "percentages = normalize(visits)\n",
    "print(percentages)\n",
    "assert sum(percentages) == 100.0"
   ],
   "metadata": {
    "collapsed": false,
    "pycharm": {
     "name": "#%%\n"
    }
   },
   "execution_count": 1,
   "outputs": [
    {
     "name": "stdout",
     "output_type": "stream",
     "text": [
      "[11.538461538461538, 26.923076923076923, 61.53846153846154]\n"
     ]
    }
   ]
  },
  {
   "cell_type": "code",
   "execution_count": 3,
   "outputs": [
    {
     "ename": "FileNotFoundError",
     "evalue": "[Errno 2] No such file or directory: ''",
     "output_type": "error",
     "traceback": [
      "\u001B[0;31m---------------------------------------------------------------------------\u001B[0m",
      "\u001B[0;31mFileNotFoundError\u001B[0m                         Traceback (most recent call last)",
      "Input \u001B[0;32mIn [3]\u001B[0m, in \u001B[0;36m<cell line: 8>\u001B[0;34m()\u001B[0m\n\u001B[1;32m      5\u001B[0m             \u001B[38;5;28;01myield\u001B[39;00m \u001B[38;5;28mint\u001B[39m(line)\n\u001B[1;32m      7\u001B[0m it \u001B[38;5;241m=\u001B[39m read_visits(\u001B[38;5;124m'\u001B[39m\u001B[38;5;124m'\u001B[39m)\n\u001B[0;32m----> 8\u001B[0m percentages \u001B[38;5;241m=\u001B[39m \u001B[43mnormalize\u001B[49m\u001B[43m(\u001B[49m\u001B[43mit\u001B[49m\u001B[43m)\u001B[49m\n\u001B[1;32m      9\u001B[0m \u001B[38;5;28mprint\u001B[39m(percentages)\n",
      "Input \u001B[0;32mIn [1]\u001B[0m, in \u001B[0;36mnormalize\u001B[0;34m(numbers)\u001B[0m\n\u001B[1;32m      1\u001B[0m \u001B[38;5;28;01mdef\u001B[39;00m \u001B[38;5;21mnormalize\u001B[39m(numbers):\n\u001B[0;32m----> 2\u001B[0m     total \u001B[38;5;241m=\u001B[39m \u001B[38;5;28;43msum\u001B[39;49m\u001B[43m(\u001B[49m\u001B[43mnumbers\u001B[49m\u001B[43m)\u001B[49m\n\u001B[1;32m      3\u001B[0m     result \u001B[38;5;241m=\u001B[39m []\n\u001B[1;32m      4\u001B[0m     \u001B[38;5;28;01mfor\u001B[39;00m value \u001B[38;5;129;01min\u001B[39;00m numbers:\n",
      "Input \u001B[0;32mIn [3]\u001B[0m, in \u001B[0;36mread_visits\u001B[0;34m(data_path)\u001B[0m\n\u001B[1;32m      2\u001B[0m \u001B[38;5;28;01mdef\u001B[39;00m \u001B[38;5;21mread_visits\u001B[39m(data_path):\n\u001B[0;32m----> 3\u001B[0m     \u001B[38;5;28;01mwith\u001B[39;00m \u001B[38;5;28;43mopen\u001B[39;49m\u001B[43m(\u001B[49m\u001B[43mdata_path\u001B[49m\u001B[43m)\u001B[49m \u001B[38;5;28;01mas\u001B[39;00m f:\n\u001B[1;32m      4\u001B[0m         \u001B[38;5;28;01mfor\u001B[39;00m line \u001B[38;5;129;01min\u001B[39;00m f:\n\u001B[1;32m      5\u001B[0m             \u001B[38;5;28;01myield\u001B[39;00m \u001B[38;5;28mint\u001B[39m(line)\n",
      "\u001B[0;31mFileNotFoundError\u001B[0m: [Errno 2] No such file or directory: ''"
     ]
    }
   ],
   "source": [
    "# However, if we pass in a generator, the function would produce no results\n",
    "def read_visits(data_path):\n",
    "    with open(data_path) as f:\n",
    "        for line in f:\n",
    "            yield int(line)\n",
    "\n",
    "it = read_visits('')\n",
    "percentages = normalize(it)\n",
    "print(percentages)\n",
    "\n",
    "# Looking back in the normalize function, we can see that the iterator will be exhausted by the sum() call,\n",
    "# and the for loop will not actually iterate."
   ],
   "metadata": {
    "collapsed": false,
    "pycharm": {
     "name": "#%%\n"
    }
   }
  },
  {
   "cell_type": "markdown",
   "metadata": {
    "collapsed": true,
    "pycharm": {
     "name": "#%% md\n"
    }
   },
   "source": [
    "Calling into an iterator, you can't tell the difference between an iterator that has no output, and an interator that had output but is exhausted.\n",
    "(Possibly the StopIteration exception is raised only once?)"
   ]
  },
  {
   "cell_type": "markdown",
   "source": [
    "To combat the generator problem above, we could call list(numbers) at the start of the funcion, but this would fail for very large inputs."
   ],
   "metadata": {
    "collapsed": false,
    "pycharm": {
     "name": "#%% md\n"
    }
   }
  },
  {
   "cell_type": "markdown",
   "source": [
    "### Iterator protocol\n",
    "The Iterator protocol is how Python for loops and related expressions traverse the contents of a container type. When Python sees a statement like <code>for x in somelist:</code>, it actually calls the built-in method <code>iter(somelist)</code>. That, in turn, calls the <code>somelist.__iter__()</code> special method. This method must return an iterator object (which itself implements the <code>__next__()</code> special method. Then, the for loop repeatedly calls the <code>next()</next> built-in method until there's a StopIteration exception."
   ],
   "metadata": {
    "collapsed": false,
    "pycharm": {
     "name": "#%% md\n"
    }
   }
  },
  {
   "cell_type": "code",
   "execution_count": 5,
   "outputs": [],
   "source": [
    "# Use the Iterator protocol by implementing the __iter__ method using yield.\n",
    "class ReadVisits:\n",
    "    def __init__(self, data_path):\n",
    "        self.data_path = data_path\n",
    "\n",
    "    def __iter__(self):\n",
    "        with open(self.data_path) as f:\n",
    "            for line in f:\n",
    "                yield int(line)\n",
    "\n",
    "# This function works correctly when passed to the original function, because each call to __inter__ returns a new Iterator object."
   ],
   "metadata": {
    "collapsed": false,
    "pycharm": {
     "name": "#%%\n"
    }
   }
  },
  {
   "cell_type": "code",
   "execution_count": null,
   "outputs": [],
   "source": [],
   "metadata": {
    "collapsed": false,
    "pycharm": {
     "name": "#%%\n"
    }
   }
  }
 ],
 "metadata": {
  "kernelspec": {
   "display_name": "Python 3",
   "language": "python",
   "name": "python3"
  },
  "language_info": {
   "codemirror_mode": {
    "name": "ipython",
    "version": 2
   },
   "file_extension": ".py",
   "mimetype": "text/x-python",
   "name": "python",
   "nbconvert_exporter": "python",
   "pygments_lexer": "ipython2",
   "version": "2.7.6"
  }
 },
 "nbformat": 4,
 "nbformat_minor": 0
}