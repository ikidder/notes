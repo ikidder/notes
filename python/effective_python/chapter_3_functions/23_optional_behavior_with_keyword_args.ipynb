{
 "cells": [
  {
   "cell_type": "code",
   "execution_count": 1,
   "metadata": {
    "collapsed": true
   },
   "outputs": [],
   "source": [
    "# Can pass arguments by position\n",
    "def remainder(number, divisor):\n",
    "    return number % divisor\n",
    "\n",
    "assert remainder(20,7) == 6"
   ]
  },
  {
   "cell_type": "code",
   "execution_count": 2,
   "outputs": [
    {
     "data": {
      "text/plain": "6"
     },
     "execution_count": 2,
     "metadata": {},
     "output_type": "execute_result"
    }
   ],
   "source": [
    "# All normal args to Python functions can also be passed by keyword. Keyword args can be passed in any order, as long as all the required positional args are specified. You can mix and match keyword and positional args.\n",
    "# These calls are equivalent\n",
    "remainder(20, 7)\n",
    "remainder(20, divisor=7)\n",
    "remainder(number=20, divisor=7)\n",
    "remainder(divisor=7, number=20)"
   ],
   "metadata": {
    "collapsed": false,
    "pycharm": {
     "name": "#%%\n"
    }
   }
  },
  {
   "cell_type": "code",
   "execution_count": 3,
   "outputs": [
    {
     "ename": "SyntaxError",
     "evalue": "positional argument follows keyword argument (2169349583.py, line 2)",
     "output_type": "error",
     "traceback": [
      "\u001B[0;36m  Input \u001B[0;32mIn [3]\u001B[0;36m\u001B[0m\n\u001B[0;31m    remainder(number=20, 7)\u001B[0m\n\u001B[0m                          ^\u001B[0m\n\u001B[0;31mSyntaxError\u001B[0m\u001B[0;31m:\u001B[0m positional argument follows keyword argument\n"
     ]
    }
   ],
   "source": [
    "# Positional args must be specified before keyword args\n",
    "remainder(number=20, 7)"
   ],
   "metadata": {
    "collapsed": false,
    "pycharm": {
     "name": "#%%\n"
    }
   }
  },
  {
   "cell_type": "code",
   "execution_count": 4,
   "outputs": [
    {
     "ename": "TypeError",
     "evalue": "remainder() got multiple values for argument 'number'",
     "output_type": "error",
     "traceback": [
      "\u001B[0;31m---------------------------------------------------------------------------\u001B[0m",
      "\u001B[0;31mTypeError\u001B[0m                                 Traceback (most recent call last)",
      "Input \u001B[0;32mIn [4]\u001B[0m, in \u001B[0;36m<cell line: 2>\u001B[0;34m()\u001B[0m\n\u001B[1;32m      1\u001B[0m \u001B[38;5;66;03m# Each arg can only be specified once\u001B[39;00m\n\u001B[0;32m----> 2\u001B[0m \u001B[43mremainder\u001B[49m\u001B[43m(\u001B[49m\u001B[38;5;241;43m20\u001B[39;49m\u001B[43m,\u001B[49m\u001B[43m \u001B[49m\u001B[43mnumber\u001B[49m\u001B[38;5;241;43m=\u001B[39;49m\u001B[38;5;241;43m7\u001B[39;49m\u001B[43m)\u001B[49m\n",
      "\u001B[0;31mTypeError\u001B[0m: remainder() got multiple values for argument 'number'"
     ]
    }
   ],
   "source": [
    "# Each arg can only be specified once\n",
    "remainder(20, number=7)"
   ],
   "metadata": {
    "collapsed": false,
    "pycharm": {
     "name": "#%%\n"
    }
   }
  },
  {
   "cell_type": "code",
   "execution_count": 8,
   "outputs": [],
   "source": [
    "# **\n",
    "# If you already have a dict, and you want to pass keyword args, us the ** operator\n",
    "my_kwargs = {\n",
    "    'number': 20,\n",
    "    'divisor': 7\n",
    "}\n",
    "assert remainder(**my_kwargs) == 6"
   ],
   "metadata": {
    "collapsed": false,
    "pycharm": {
     "name": "#%%\n"
    }
   }
  },
  {
   "cell_type": "code",
   "execution_count": 10,
   "outputs": [
    {
     "name": "stdout",
     "output_type": "stream",
     "text": [
      "alpha = 1.5\n",
      "beta = 9\n",
      "gamma = 4\n"
     ]
    }
   ],
   "source": [
    "# Defining a function that accepts all keywords args\n",
    "def print_parameters(**kwargs):\n",
    "    for key, value in kwargs.items():\n",
    "        print(f'{key} = {value}')\n",
    "\n",
    "print_parameters(alpha=1.5, beta=9, gamma=4)"
   ],
   "metadata": {
    "collapsed": false,
    "pycharm": {
     "name": "#%%\n"
    }
   }
  },
  {
   "cell_type": "markdown",
   "source": [
    "Three benefits to keyword args:\n",
    "1. Readability. Makes function calls more clear by identifying parameters, instead of relying on position.\n",
    "2. Keyword args can have default values, which makes some functions easier to use.\n",
    "3. Can extend a function to support new parameters while remaining backwards compatible."
   ],
   "metadata": {
    "collapsed": false,
    "pycharm": {
     "name": "#%% md\n"
    }
   }
  },
  {
   "cell_type": "code",
   "execution_count": null,
   "outputs": [],
   "source": [],
   "metadata": {
    "collapsed": false,
    "pycharm": {
     "name": "#%%\n"
    }
   }
  }
 ],
 "metadata": {
  "kernelspec": {
   "display_name": "Python 3",
   "language": "python",
   "name": "python3"
  },
  "language_info": {
   "codemirror_mode": {
    "name": "ipython",
    "version": 2
   },
   "file_extension": ".py",
   "mimetype": "text/x-python",
   "name": "python",
   "nbconvert_exporter": "python",
   "pygments_lexer": "ipython2",
   "version": "2.7.6"
  }
 },
 "nbformat": 4,
 "nbformat_minor": 0
}