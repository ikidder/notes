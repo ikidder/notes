{
 "cells": [
  {
   "cell_type": "code",
   "execution_count": 3,
   "metadata": {
    "collapsed": true
   },
   "outputs": [
    {
     "name": "stdout",
     "output_type": "stream",
     "text": [
      "2022-04-01 21:11:10.535890: Hi there!\n",
      "2022-04-01 21:11:10.535890: Hello again!\n"
     ]
    }
   ],
   "source": [
    "from time import sleep\n",
    "from datetime import datetime\n",
    "\n",
    "def log(message, when=datetime.now()):\n",
    "    print(f'{when}: {message}')\n",
    "\n",
    "log('Hi there!')\n",
    "sleep(0.1)\n",
    "log('Hello again!')"
   ]
  },
  {
   "cell_type": "markdown",
   "source": [
    "### Note that we get the same time. This is because the value of a default argument is only evaluated _once_ per module load."
   ],
   "metadata": {
    "collapsed": false,
    "pycharm": {
     "name": "#%% md\n"
    }
   }
  },
  {
   "cell_type": "code",
   "execution_count": 6,
   "outputs": [
    {
     "name": "stdout",
     "output_type": "stream",
     "text": [
      "2022-04-01 21:15:58.762433: Hi there!\n",
      "2022-04-01 21:15:58.863662: Hello again!\n"
     ]
    }
   ],
   "source": [
    "# By convention, we do it this way:\n",
    "def log(message, when=None):\n",
    "    \"\"\"Log a message with a timestamp.\n",
    "\n",
    "    Args:\n",
    "        message: Message to print.\n",
    "        when: datetime of when the message occurred. Defaults to the present time.\n",
    "    \"\"\"\n",
    "    if when is None:\n",
    "        when = datetime.now()\n",
    "    print(f'{when}: {message}')\n",
    "\n",
    "log('Hi there!')\n",
    "sleep(0.1)\n",
    "log('Hello again!')  # Now, we get different times."
   ],
   "metadata": {
    "collapsed": false,
    "pycharm": {
     "name": "#%%\n"
    }
   }
  },
  {
   "cell_type": "markdown",
   "source": [
    "Keep this in mind for other mutable types, like [] and {}"
   ],
   "metadata": {
    "collapsed": false,
    "pycharm": {
     "name": "#%% md\n"
    }
   }
  },
  {
   "cell_type": "code",
   "execution_count": null,
   "outputs": [],
   "source": [],
   "metadata": {
    "collapsed": false,
    "pycharm": {
     "name": "#%%\n"
    }
   }
  }
 ],
 "metadata": {
  "kernelspec": {
   "display_name": "Python 3",
   "language": "python",
   "name": "python3"
  },
  "language_info": {
   "codemirror_mode": {
    "name": "ipython",
    "version": 2
   },
   "file_extension": ".py",
   "mimetype": "text/x-python",
   "name": "python",
   "nbconvert_exporter": "python",
   "pygments_lexer": "ipython2",
   "version": "2.7.6"
  }
 },
 "nbformat": 4,
 "nbformat_minor": 0
}