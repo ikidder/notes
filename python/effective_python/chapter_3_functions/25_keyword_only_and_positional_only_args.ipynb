{
 "cells": [
  {
   "cell_type": "code",
   "execution_count": 9,
   "metadata": {
    "collapsed": true
   },
   "outputs": [],
   "source": [
    "# * in the argument list indicates the end of positional arguments, and the beginning of keyword-only arguments.\n",
    "\n",
    "def safe_division_c(number, divisor, *, ignore_overflow=False, ignore_zero_division=False):\n",
    "    try:\n",
    "        return number / divisor\n",
    "    except OverflowError:\n",
    "        if ignore_overflow:\n",
    "            return 0\n",
    "        else: raise    # note the syntax to re-raise an error\n",
    "    except ZeroDivisionError:\n",
    "        if ignore_zero_division:\n",
    "            return float('inf')\n",
    "        else:\n",
    "            raise"
   ]
  },
  {
   "cell_type": "code",
   "execution_count": 10,
   "outputs": [
    {
     "ename": "TypeError",
     "evalue": "safe_division_c() takes 2 positional arguments but 4 were given",
     "output_type": "error",
     "traceback": [
      "\u001B[0;31m---------------------------------------------------------------------------\u001B[0m",
      "\u001B[0;31mTypeError\u001B[0m                                 Traceback (most recent call last)",
      "Input \u001B[0;32mIn [10]\u001B[0m, in \u001B[0;36m<cell line: 2>\u001B[0;34m()\u001B[0m\n\u001B[1;32m      1\u001B[0m \u001B[38;5;66;03m# trying to use keyword-only args as positional args results in a TypeError\u001B[39;00m\n\u001B[0;32m----> 2\u001B[0m \u001B[43msafe_division_c\u001B[49m\u001B[43m(\u001B[49m\u001B[38;5;241;43m1.0\u001B[39;49m\u001B[43m,\u001B[49m\u001B[43m \u001B[49m\u001B[38;5;241;43m10\u001B[39;49m\u001B[38;5;241;43m*\u001B[39;49m\u001B[38;5;241;43m*\u001B[39;49m\u001B[38;5;241;43m500\u001B[39;49m\u001B[43m,\u001B[49m\u001B[43m \u001B[49m\u001B[38;5;28;43;01mTrue\u001B[39;49;00m\u001B[43m,\u001B[49m\u001B[43m \u001B[49m\u001B[38;5;28;43;01mFalse\u001B[39;49;00m\u001B[43m)\u001B[49m\n",
      "\u001B[0;31mTypeError\u001B[0m: safe_division_c() takes 2 positional arguments but 4 were given"
     ]
    }
   ],
   "source": [
    "# trying to use keyword-only args as positional args results in a TypeError\n",
    "safe_division_c(1.0, 10**500, True, False)"
   ],
   "metadata": {
    "collapsed": false,
    "pycharm": {
     "name": "#%%\n"
    }
   }
  },
  {
   "cell_type": "code",
   "execution_count": 11,
   "outputs": [
    {
     "data": {
      "text/plain": "inf"
     },
     "execution_count": 11,
     "metadata": {},
     "output_type": "execute_result"
    }
   ],
   "source": [
    "# but omitting one or both of the keyword-only arguments is fine, because we're effectively saying to use the default value\n",
    "safe_division_c(1.0, 0, ignore_zero_division=True)"
   ],
   "metadata": {
    "collapsed": false,
    "pycharm": {
     "name": "#%%\n"
    }
   }
  },
  {
   "cell_type": "code",
   "execution_count": 16,
   "outputs": [],
   "source": [
    "# callers can still specify the first two arguments with a mix of positional and keywords\n",
    "assert safe_division_c(number=2, divisor=5) == 0.4\n",
    "assert safe_division_c(divisor=5, number=2) == 0.4\n",
    "assert safe_division_c(2, divisor=5) == 0.4"
   ],
   "metadata": {
    "collapsed": false,
    "pycharm": {
     "name": "#%%\n"
    }
   }
  },
  {
   "cell_type": "code",
   "execution_count": 18,
   "outputs": [
    {
     "ename": "TypeError",
     "evalue": "safe_division_c() got an unexpected keyword argument 'number'",
     "output_type": "error",
     "traceback": [
      "\u001B[0;31m---------------------------------------------------------------------------\u001B[0m",
      "\u001B[0;31mTypeError\u001B[0m                                 Traceback (most recent call last)",
      "Input \u001B[0;32mIn [18]\u001B[0m, in \u001B[0;36m<cell line: 16>\u001B[0;34m()\u001B[0m\n\u001B[1;32m     13\u001B[0m         \u001B[38;5;28;01melse\u001B[39;00m:\n\u001B[1;32m     14\u001B[0m             \u001B[38;5;28;01mraise\u001B[39;00m\n\u001B[0;32m---> 16\u001B[0m \u001B[43msafe_division_c\u001B[49m\u001B[43m(\u001B[49m\u001B[43mnumber\u001B[49m\u001B[38;5;241;43m=\u001B[39;49m\u001B[38;5;241;43m2\u001B[39;49m\u001B[43m,\u001B[49m\u001B[43m \u001B[49m\u001B[43mdivisor\u001B[49m\u001B[38;5;241;43m=\u001B[39;49m\u001B[38;5;241;43m5\u001B[39;49m\u001B[43m)\u001B[49m\n",
      "\u001B[0;31mTypeError\u001B[0m: safe_division_c() got an unexpected keyword argument 'number'"
     ]
    }
   ],
   "source": [
    "# if I later change the argument names, any caller that used those names breaks\n",
    "\n",
    "def safe_division_c(numerator, denominator, *, ignore_overflow=False, ignore_zero_division=False):\n",
    "    try:\n",
    "        return numerator / denominator\n",
    "    except OverflowError:\n",
    "        if ignore_overflow:\n",
    "            return 0\n",
    "        else: raise    # note the syntax to re-raise an error\n",
    "    except ZeroDivisionError:\n",
    "        if ignore_zero_division:\n",
    "            return float('inf')\n",
    "        else:\n",
    "            raise\n",
    "\n",
    "safe_division_c(number=2, divisor=5)"
   ],
   "metadata": {
    "collapsed": false,
    "pycharm": {
     "name": "#%%\n"
    }
   }
  },
  {
   "cell_type": "code",
   "execution_count": 20,
   "outputs": [
    {
     "data": {
      "text/plain": "0.4"
     },
     "execution_count": 20,
     "metadata": {},
     "output_type": "execute_result"
    }
   ],
   "source": [
    "# / in the argument list defines the arguments to the left to be positional-only. Attempting to call the function and supply these args by keyword is a TypeError.\n",
    "def safe_division_c(numerator, denominator, /, *, ignore_overflow=False, ignore_zero_division=False):\n",
    "    try:\n",
    "        return numerator / denominator\n",
    "    except OverflowError:\n",
    "        if ignore_overflow:\n",
    "            return 0\n",
    "        else: raise    # note the syntax to re-raise an error\n",
    "    except ZeroDivisionError:\n",
    "        if ignore_zero_division:\n",
    "            return float('inf')\n",
    "        else:\n",
    "            raise\n",
    "\n",
    "safe_division_c(2,5)"
   ],
   "metadata": {
    "collapsed": false,
    "pycharm": {
     "name": "#%%\n"
    }
   }
  },
  {
   "cell_type": "code",
   "execution_count": null,
   "outputs": [],
   "source": [
    "# If a function uses both / and * in the arg list, any args between them can be called by position OR keyword."
   ],
   "metadata": {
    "collapsed": false,
    "pycharm": {
     "name": "#%%\n"
    }
   }
  }
 ],
 "metadata": {
  "kernelspec": {
   "display_name": "Python 3",
   "language": "python",
   "name": "python3"
  },
  "language_info": {
   "codemirror_mode": {
    "name": "ipython",
    "version": 2
   },
   "file_extension": ".py",
   "mimetype": "text/x-python",
   "name": "python",
   "nbconvert_exporter": "python",
   "pygments_lexer": "ipython2",
   "version": "2.7.6"
  }
 },
 "nbformat": 4,
 "nbformat_minor": 0
}