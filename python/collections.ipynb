{
 "cells": [
  {
   "cell_type": "markdown",
   "metadata": {
    "collapsed": true,
    "pycharm": {
     "name": "#%% md\n"
    }
   },
   "source": [
    "# Collections\n",
    "https://docs.python.org/3/library/collections.html#"
   ]
  },
  {
   "cell_type": "markdown",
   "source": [
    "## deque  (double-ended queue)\n",
    "* Pronounced 'deck'\n",
    "* Generalization of stacks and queues\n",
    "* 𝘖(1) appends and pops from either side\n",
    "* Thread-safe"
   ],
   "metadata": {
    "collapsed": false,
    "pycharm": {
     "name": "#%% md\n"
    }
   }
  },
  {
   "cell_type": "code",
   "execution_count": 4,
   "outputs": [
    {
     "name": "stdout",
     "output_type": "stream",
     "text": [
      "A\n",
      "B\n",
      "C\n"
     ]
    },
    {
     "data": {
      "text/plain": "['a', 'b', 'c']"
     },
     "execution_count": 4,
     "metadata": {},
     "output_type": "execute_result"
    }
   ],
   "source": [
    "from collections import deque\n",
    "# create a new, empty deque\n",
    "d = deque()\n",
    "# create a new deque with three items\n",
    "d = deque('abc')\n",
    "\n",
    "# can iterate over a deque normally\n",
    "for c in d:\n",
    "    print(c.upper())\n",
    "\n",
    "# append to either side\n",
    "d.append('d')\n",
    "d.appendleft('-1')\n",
    "\n",
    "# pop from either side\n",
    "d.pop()\n",
    "d.popleft()\n",
    "\n",
    "# peek with indexing\n",
    "d[0] # peek at leftmost\n",
    "d[-1] # peek at rightmost\n",
    "\n",
    "# to list\n",
    "list(d)"
   ],
   "metadata": {
    "collapsed": false,
    "pycharm": {
     "name": "#%%\n"
    }
   }
  },
  {
   "cell_type": "code",
   "execution_count": 12,
   "outputs": [
    {
     "name": "stdout",
     "output_type": "stream",
     "text": [
      "starting deque:\n",
      "deque([1, 2, 3, 4])\n",
      "rotate right by 1: \n",
      "deque([4, 1, 2, 3])\n",
      "\n",
      "starting deque:\n",
      "deque([1, 2, 3, 4])\n",
      "rotate left by 1: \n",
      "deque([2, 3, 4, 1])\n"
     ]
    }
   ],
   "source": [
    "# rotate\n",
    "\n",
    "print('starting deque:')\n",
    "d = deque([1,2,3,4])\n",
    "print(d)\n",
    "print('rotate right by 1: ')\n",
    "d = deque([1,2,3,4])\n",
    "d.rotate(1)\n",
    "print(d)\n",
    "\n",
    "print()\n",
    "\n",
    "print('starting deque:')\n",
    "d = deque([1,2,3,4])\n",
    "print(d)\n",
    "print('rotate left by 1: ')\n",
    "d = deque([1,2,3,4])\n",
    "d.rotate(-1)\n",
    "print(d)"
   ],
   "metadata": {
    "collapsed": false,
    "pycharm": {
     "name": "#%%\n"
    }
   }
  },
  {
   "cell_type": "markdown",
   "source": [
    "### use a deque as a stack\n",
    "append and pop on the right"
   ],
   "metadata": {
    "collapsed": false,
    "pycharm": {
     "name": "#%% md\n"
    }
   }
  },
  {
   "cell_type": "code",
   "execution_count": 14,
   "outputs": [
    {
     "data": {
      "text/plain": "'b'"
     },
     "execution_count": 14,
     "metadata": {},
     "output_type": "execute_result"
    }
   ],
   "source": [
    "from collections import deque\n",
    "d = deque()\n",
    "d.append('a')\n",
    "d.append('b')\n",
    "d.pop()"
   ],
   "metadata": {
    "collapsed": false,
    "pycharm": {
     "name": "#%%\n"
    }
   }
  },
  {
   "cell_type": "markdown",
   "source": [
    "### use a deque as a queue\n",
    "append on the right, pop on the left\n",
    "(or the other way around)"
   ],
   "metadata": {
    "collapsed": false,
    "pycharm": {
     "name": "#%% md\n"
    }
   }
  },
  {
   "cell_type": "code",
   "execution_count": 18,
   "outputs": [
    {
     "data": {
      "text/plain": "'a'"
     },
     "execution_count": 18,
     "metadata": {},
     "output_type": "execute_result"
    }
   ],
   "source": [
    "from collections import deque\n",
    "d = deque()\n",
    "d.append('a')\n",
    "d.append('b')\n",
    "d.popleft()"
   ],
   "metadata": {
    "collapsed": false,
    "pycharm": {
     "name": "#%%\n"
    }
   }
  },
  {
   "cell_type": "markdown",
   "source": [
    "### create a fixed-size stack or queue by passing the `maxlen` arg"
   ],
   "metadata": {
    "collapsed": false,
    "pycharm": {
     "name": "#%% md\n"
    }
   }
  },
  {
   "cell_type": "code",
   "execution_count": 17,
   "outputs": [
    {
     "data": {
      "text/plain": "[2, 3]"
     },
     "execution_count": 17,
     "metadata": {},
     "output_type": "execute_result"
    }
   ],
   "source": [
    "d = deque(maxlen=2)\n",
    "d.append(1)\n",
    "d.append(2)\n",
    "d.append(3)\n",
    "list(d)"
   ],
   "metadata": {
    "collapsed": false,
    "pycharm": {
     "name": "#%%\n"
    }
   }
  },
  {
   "cell_type": "markdown",
   "source": [
    "-------------"
   ],
   "metadata": {
    "collapsed": false,
    "pycharm": {
     "name": "#%% md\n"
    }
   }
  },
  {
   "cell_type": "code",
   "execution_count": null,
   "outputs": [],
   "source": [],
   "metadata": {
    "collapsed": false,
    "pycharm": {
     "name": "#%%\n"
    }
   }
  }
 ],
 "metadata": {
  "kernelspec": {
   "display_name": "Python 3",
   "language": "python",
   "name": "python3"
  },
  "language_info": {
   "codemirror_mode": {
    "name": "ipython",
    "version": 2
   },
   "file_extension": ".py",
   "mimetype": "text/x-python",
   "name": "python",
   "nbconvert_exporter": "python",
   "pygments_lexer": "ipython2",
   "version": "2.7.6"
  }
 },
 "nbformat": 4,
 "nbformat_minor": 0
}