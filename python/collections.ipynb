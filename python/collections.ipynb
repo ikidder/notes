{
 "cells": [
  {
   "cell_type": "markdown",
   "metadata": {
    "collapsed": true,
    "pycharm": {
     "name": "#%% md\n"
    }
   },
   "source": [
    "# Collections\n",
    "https://docs.python.org/3/library/collections.html#"
   ]
  },
  {
   "cell_type": "markdown",
   "source": [
    "## deque  (double-ended queue)\n",
    "* Pronounced 'deck'\n",
    "* Generalization of stacks and queues\n",
    "* 𝘖(1) appends and pops from either side\n",
    "* Thread-safe"
   ],
   "metadata": {
    "collapsed": false,
    "pycharm": {
     "name": "#%% md\n"
    }
   }
  },
  {
   "cell_type": "code",
   "execution_count": 4,
   "outputs": [
    {
     "name": "stdout",
     "output_type": "stream",
     "text": [
      "A\n",
      "B\n",
      "C\n"
     ]
    },
    {
     "data": {
      "text/plain": "['a', 'b', 'c']"
     },
     "execution_count": 4,
     "metadata": {},
     "output_type": "execute_result"
    }
   ],
   "source": [
    "from collections import deque\n",
    "# create a new, empty deque\n",
    "d = deque()\n",
    "# create a new deque with three items\n",
    "d = deque('abc')\n",
    "\n",
    "# can iterate over a deque normally\n",
    "for c in d:\n",
    "    print(c.upper())\n",
    "\n",
    "# append to either side\n",
    "d.append('d')\n",
    "d.appendleft('-1')\n",
    "\n",
    "# pop from either side\n",
    "d.pop()\n",
    "d.popleft()\n",
    "\n",
    "# peek with indexing\n",
    "d[0] # peek at leftmost\n",
    "d[-1] # peek at rightmost\n",
    "\n",
    "# to list\n",
    "list(d)"
   ],
   "metadata": {
    "collapsed": false,
    "pycharm": {
     "name": "#%%\n"
    }
   }
  },
  {
   "cell_type": "code",
   "execution_count": 12,
   "outputs": [
    {
     "name": "stdout",
     "output_type": "stream",
     "text": [
      "starting deque:\n",
      "deque([1, 2, 3, 4])\n",
      "rotate right by 1: \n",
      "deque([4, 1, 2, 3])\n",
      "\n",
      "starting deque:\n",
      "deque([1, 2, 3, 4])\n",
      "rotate left by 1: \n",
      "deque([2, 3, 4, 1])\n"
     ]
    }
   ],
   "source": [
    "# rotate\n",
    "\n",
    "print('starting deque:')\n",
    "d = deque([1,2,3,4])\n",
    "print(d)\n",
    "print('rotate right by 1: ')\n",
    "d = deque([1,2,3,4])\n",
    "d.rotate(1)\n",
    "print(d)\n",
    "\n",
    "print()\n",
    "\n",
    "print('starting deque:')\n",
    "d = deque([1,2,3,4])\n",
    "print(d)\n",
    "print('rotate left by 1: ')\n",
    "d = deque([1,2,3,4])\n",
    "d.rotate(-1)\n",
    "print(d)"
   ],
   "metadata": {
    "collapsed": false,
    "pycharm": {
     "name": "#%%\n"
    }
   }
  },
  {
   "cell_type": "markdown",
   "source": [
    "### use a deque as a stack\n",
    "append and pop on the right"
   ],
   "metadata": {
    "collapsed": false,
    "pycharm": {
     "name": "#%% md\n"
    }
   }
  },
  {
   "cell_type": "code",
   "execution_count": 14,
   "outputs": [
    {
     "data": {
      "text/plain": "'b'"
     },
     "execution_count": 14,
     "metadata": {},
     "output_type": "execute_result"
    }
   ],
   "source": [
    "from collections import deque\n",
    "d = deque()\n",
    "d.append('a')\n",
    "d.append('b')\n",
    "d.pop()"
   ],
   "metadata": {
    "collapsed": false,
    "pycharm": {
     "name": "#%%\n"
    }
   }
  },
  {
   "cell_type": "markdown",
   "source": [
    "### use a deque as a queue\n",
    "append on the right, pop on the left\n",
    "(or the other way around)"
   ],
   "metadata": {
    "collapsed": false,
    "pycharm": {
     "name": "#%% md\n"
    }
   }
  },
  {
   "cell_type": "code",
   "execution_count": 18,
   "outputs": [
    {
     "data": {
      "text/plain": "'a'"
     },
     "execution_count": 18,
     "metadata": {},
     "output_type": "execute_result"
    }
   ],
   "source": [
    "from collections import deque\n",
    "d = deque()\n",
    "d.append('a')\n",
    "d.append('b')\n",
    "d.popleft()"
   ],
   "metadata": {
    "collapsed": false,
    "pycharm": {
     "name": "#%%\n"
    }
   }
  },
  {
   "cell_type": "markdown",
   "source": [
    "### create a fixed-size stack or queue by passing the `maxlen` arg"
   ],
   "metadata": {
    "collapsed": false,
    "pycharm": {
     "name": "#%% md\n"
    }
   }
  },
  {
   "cell_type": "code",
   "execution_count": 17,
   "outputs": [
    {
     "data": {
      "text/plain": "[2, 3]"
     },
     "execution_count": 17,
     "metadata": {},
     "output_type": "execute_result"
    }
   ],
   "source": [
    "d = deque(maxlen=2)\n",
    "d.append(1)\n",
    "d.append(2)\n",
    "d.append(3)\n",
    "list(d)"
   ],
   "metadata": {
    "collapsed": false,
    "pycharm": {
     "name": "#%%\n"
    }
   }
  },
  {
   "cell_type": "markdown",
   "source": [
    "-------------"
   ],
   "metadata": {
    "collapsed": false,
    "pycharm": {
     "name": "#%% md\n"
    }
   }
  },
  {
   "cell_type": "markdown",
   "source": [
    "## OrderedDict\n",
    "Return an instance of a dict subclass that has methods specialized for rearranging dictionary order.\n",
    "\n",
    "```\n",
    "popitem(last=True)\n",
    "  The popitem() method for ordered dictionaries returns and removes a (key, value) pair.\n",
    "  The pairs are returned in LIFO order if last is true or FIFO order if false.\n",
    "```\n",
    "\n",
    "```\n",
    "move_to_end(key, last=True)\n",
    "  Move an existing key to either end of an ordered dictionary.\n",
    "  The item is moved to the right end if last is true (the default) or to the beginning if last is false.\n",
    "  Raises KeyError if the key does not exist.\n",
    "```\n",
    "OrderedDicts also support reverse iteration using `reversed`\n",
    "\n",
    "https://docs.python.org/3/library/collections.html#collections.OrderedDict"
   ],
   "metadata": {
    "collapsed": false,
    "pycharm": {
     "name": "#%% md\n"
    }
   }
  },
  {
   "cell_type": "code",
   "execution_count": 1,
   "outputs": [
    {
     "data": {
      "text/plain": "'acdeb'"
     },
     "execution_count": 1,
     "metadata": {},
     "output_type": "execute_result"
    }
   ],
   "source": [
    "from collections import OrderedDict\n",
    "d = OrderedDict.fromkeys('abcde')\n",
    "d.move_to_end('b')\n",
    "''.join(d)"
   ],
   "metadata": {
    "collapsed": false,
    "pycharm": {
     "name": "#%%\n"
    }
   }
  },
  {
   "cell_type": "code",
   "execution_count": 2,
   "outputs": [
    {
     "data": {
      "text/plain": "'bacde'"
     },
     "execution_count": 2,
     "metadata": {},
     "output_type": "execute_result"
    }
   ],
   "source": [
    "d.move_to_end('b', last=False)\n",
    "''.join(d)"
   ],
   "metadata": {
    "collapsed": false,
    "pycharm": {
     "name": "#%%\n"
    }
   }
  },
  {
   "cell_type": "code",
   "execution_count": 3,
   "outputs": [],
   "source": [
    "# OrderedDict to implement a variant of `functools.lru_cache()`:\n",
    "from time import time\n",
    "\n",
    "class TimeBoundedLRU:\n",
    "    \"LRU Cache that invalidates and refreshes old entries.\"\n",
    "\n",
    "    def __init__(self, func, maxsize=128, maxage=30):\n",
    "        self.cache = OrderedDict()      # { args : (timestamp, result)}\n",
    "        self.func = func\n",
    "        self.maxsize = maxsize\n",
    "        self.maxage = maxage\n",
    "\n",
    "    def __call__(self, *args):\n",
    "        if args in self.cache:\n",
    "            self.cache.move_to_end(args)\n",
    "            timestamp, result = self.cache[args]\n",
    "            if time() - timestamp <= self.maxage:\n",
    "                return result\n",
    "        result = self.func(*args)\n",
    "        self.cache[args] = time(), result\n",
    "        if len(self.cache) > self.maxsize:\n",
    "            self.cache.popitem(0)\n",
    "        return result"
   ],
   "metadata": {
    "collapsed": false,
    "pycharm": {
     "name": "#%%\n"
    }
   }
  },
  {
   "cell_type": "markdown",
   "source": [
    "## Counter\n",
    "A Counter is a dict subclass for counting hashable objects. It is a collection where elements are stored as dictionary keys and their counts are stored as dictionary values. Counts are allowed to be any integer value including zero or negative counts."
   ],
   "metadata": {
    "collapsed": false,
    "pycharm": {
     "name": "#%% md\n"
    }
   }
  },
  {
   "cell_type": "code",
   "execution_count": 1,
   "outputs": [],
   "source": [
    "from collections import Counter\n",
    "\n",
    "c1 = Counter()                           # a new, empty counter\n",
    "c2 = Counter('gallahad')                 # a new counter from an iterable\n",
    "c3 = Counter({'red': 4, 'blue': 2})      # a new counter from a mapping\n",
    "c4 = Counter(cats=4, dogs=8)             # a new counter from keyword args"
   ],
   "metadata": {
    "collapsed": false,
    "pycharm": {
     "name": "#%%\n"
    }
   }
  },
  {
   "cell_type": "code",
   "execution_count": 2,
   "outputs": [
    {
     "data": {
      "text/plain": "Counter({'red': 4, 'blue': 2})"
     },
     "execution_count": 2,
     "metadata": {},
     "output_type": "execute_result"
    }
   ],
   "source": [
    "c3"
   ],
   "metadata": {
    "collapsed": false,
    "pycharm": {
     "name": "#%%\n"
    }
   }
  },
  {
   "cell_type": "code",
   "execution_count": 3,
   "outputs": [
    {
     "data": {
      "text/plain": "Counter({'cats': 4, 'dogs': 8})"
     },
     "execution_count": 3,
     "metadata": {},
     "output_type": "execute_result"
    }
   ],
   "source": [
    "c4"
   ],
   "metadata": {
    "collapsed": false,
    "pycharm": {
     "name": "#%%\n"
    }
   }
  },
  {
   "cell_type": "code",
   "execution_count": null,
   "outputs": [],
   "source": [],
   "metadata": {
    "collapsed": false,
    "pycharm": {
     "name": "#%%\n"
    }
   }
  }
 ],
 "metadata": {
  "kernelspec": {
   "display_name": "Python 3",
   "language": "python",
   "name": "python3"
  },
  "language_info": {
   "codemirror_mode": {
    "name": "ipython",
    "version": 2
   },
   "file_extension": ".py",
   "mimetype": "text/x-python",
   "name": "python",
   "nbconvert_exporter": "python",
   "pygments_lexer": "ipython2",
   "version": "2.7.6"
  }
 },
 "nbformat": 4,
 "nbformat_minor": 0
}