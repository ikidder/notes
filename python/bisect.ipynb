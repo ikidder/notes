{
 "cells": [
  {
   "cell_type": "markdown",
   "metadata": {
    "collapsed": true,
    "pycharm": {
     "name": "#%% md\n"
    }
   },
   "source": [
    "# bisect\n",
    "\n",
    "### bisect.bisect_left(a, x, lo=0, hi=len(a), *, key=None)\n",
    "Locate the insertion point for x in a to maintain sorted order. The parameters lo and hi may be used to specify a subset of the list which should be considered; by default the entire list is used. If x is already present in a, the insertion point will be before (to the left of) any existing entries. The return value is suitable for use as the first parameter to `list.insert()` assuming that a is already sorted.\n",
    "\n",
    "The returned insertion point i partitions the array a into two halves so that `all(val < x for val in a[lo : i])` for the left side and `all(val >= x for val in a[i : hi])` for the right side.\n",
    "\n",
    "### bisect.bisect_right(a, x, lo=0, hi=len(a), *, key=None)\n",
    "### bisect.bisect(a, x, lo=0, hi=len(a), *, key=None)\n",
    "Similar to bisect_left(), but returns an insertion point which comes after (to the right of) any existing entries of x in a.\n",
    "\n",
    "The returned insertion point i partitions the array a into two halves so that `all(val <= x for val in a[lo : i])` for the left side and `all(val > x for val in a[i : hi])` for the right side."
   ]
  },
  {
   "cell_type": "code",
   "execution_count": 1,
   "outputs": [
    {
     "data": {
      "text/plain": "1"
     },
     "execution_count": 1,
     "metadata": {},
     "output_type": "execute_result"
    }
   ],
   "source": [
    "from bisect import bisect_left\n",
    "houses = [1,2,3]\n",
    "heaters = [2]\n",
    "\n",
    "bisect_left(houses, 2)"
   ],
   "metadata": {
    "collapsed": false,
    "pycharm": {
     "name": "#%%\n"
    }
   }
  },
  {
   "cell_type": "code",
   "execution_count": 3,
   "outputs": [
    {
     "name": "stdout",
     "output_type": "stream",
     "text": [
      "0\n",
      "3\n"
     ]
    }
   ],
   "source": [
    "houses = [1,2,3,4]\n",
    "heaters = [1,4]\n",
    "\n",
    "print(bisect_left(houses, 1))\n",
    "print(bisect_left(houses, 4))"
   ],
   "metadata": {
    "collapsed": false,
    "pycharm": {
     "name": "#%%\n"
    }
   }
  },
  {
   "cell_type": "code",
   "execution_count": 6,
   "outputs": [],
   "source": [
    "import random\n",
    "def foo(i, j):\n",
    "    return (i + j) // 2\n",
    "def bar(i,j):\n",
    "    return ((j-i) // 2) + i\n",
    "for _ in range(1000):\n",
    "    i = random.randint(0, 1000)\n",
    "    j = random.randint(0,1001)\n",
    "    if foo(i,j) != bar(i,j):\n",
    "        print(i, j, ' -> ', foo(i,j), bar(i,j))\n"
   ],
   "metadata": {
    "collapsed": false,
    "pycharm": {
     "name": "#%%\n"
    }
   }
  },
  {
   "cell_type": "code",
   "execution_count": 5,
   "outputs": [
    {
     "name": "stdout",
     "output_type": "stream",
     "text": [
      "2\n",
      "3\n"
     ]
    }
   ],
   "source": [
    "print(foo(1,3))\n",
    "print(bar(1,3))"
   ],
   "metadata": {
    "collapsed": false,
    "pycharm": {
     "name": "#%%\n"
    }
   }
  },
  {
   "cell_type": "code",
   "execution_count": null,
   "outputs": [],
   "source": [
    "class Solution:\n",
    "    def sortedArrayToBST(self, nums: List[int]) -> Optional[TreeNode]:\n",
    "        def break(seq, low, high):\n",
    "            mid = ((high - low) // 2) + low\n",
    "            return (seq[0:mid], seq[mid], seq[mid+1:])\n",
    "\n",
    "        if not nums:\n",
    "            return None\n",
    "        left, mid, right = break(nums, 0, len(nums))\n",
    "        curr = TreeNode(val=mid)\n",
    "        curr.left = sortedArrayToBST(left)\n",
    "        curr.right = sortedArrayToBST(right)\n",
    "        return curr"
   ],
   "metadata": {
    "collapsed": false,
    "pycharm": {
     "name": "#%%\n"
    }
   }
  }
 ],
 "metadata": {
  "kernelspec": {
   "display_name": "Python 3",
   "language": "python",
   "name": "python3"
  },
  "language_info": {
   "codemirror_mode": {
    "name": "ipython",
    "version": 2
   },
   "file_extension": ".py",
   "mimetype": "text/x-python",
   "name": "python",
   "nbconvert_exporter": "python",
   "pygments_lexer": "ipython2",
   "version": "2.7.6"
  }
 },
 "nbformat": 4,
 "nbformat_minor": 0
}